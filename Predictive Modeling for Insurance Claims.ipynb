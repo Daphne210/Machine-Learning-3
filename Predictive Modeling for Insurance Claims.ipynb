{
 "cells": [
  {
   "cell_type": "markdown",
   "id": "4093cf45",
   "metadata": {},
   "source": [
    "# Predictive Modeling for Insurance Claims"
   ]
  },
  {
   "cell_type": "code",
   "execution_count": 1,
   "id": "a0f6a3e3",
   "metadata": {},
   "outputs": [],
   "source": [
    "import numpy as np\n",
    "import pandas as pd\n",
    "import matplotlib.pyplot as plt\n",
    "import seaborn as sns\n",
    "\n",
    "%matplotlib inline"
   ]
  },
  {
   "cell_type": "markdown",
   "id": "913f337c",
   "metadata": {},
   "source": [
    "## Data Exploration and Preprocessing \n",
    "\n",
    "* Load the Training Dataset which is made up of 7160 records and 14 features. \n",
    "* No duplicates identified. \n",
    "* The following columns: 'garden', 'building_dimension', 'date_of_occupancy', 'geo_code' are identified to have missing values of 7, 106, 508, 102 respectively. \n",
    "* Unified columns to lowercase for easy use. \n",
    "* NumberOfWindows feature contained values that are not numeric and contained the string '.', this was first replaced with NaN and then replaced with the median.\n",
    "* A summary of statistics includes but not limited to: the mean as 2013.670, the median as 2013.000, the standard deviation as 1.384. \n",
    "* The distribution of the data is visaulized using a histogram and this indicated a positively skewed distribution and thus missing values of the numerical varibales were filled by the median since the median is less senstive to extreme values compared to the mean. \n",
    "* Exploring the distribution of the target varibale(claim) indicates that about 22.8% of the buildings have atleast one claim over insured period. \n",
    "* Categorical columns (building_painted, building_fenced, garden, settlement) were encoded using label encoding\n",
    "* Visualizations of the independent variables vs the dependent variable: Categorical columns vs claim are visualized using bar plots, and Numerical columns vs claim are visualized using box plot.\n",
    "* During feature selection, building_fenced was dropped since it is highy correlated with settlement, geo_code was dropped since it was less relevant to the target variable."
   ]
  },
  {
   "cell_type": "code",
   "execution_count": 2,
   "id": "c7d8f7f3",
   "metadata": {},
   "outputs": [
    {
     "data": {
      "text/html": [
       "<div>\n",
       "<style scoped>\n",
       "    .dataframe tbody tr th:only-of-type {\n",
       "        vertical-align: middle;\n",
       "    }\n",
       "\n",
       "    .dataframe tbody tr th {\n",
       "        vertical-align: top;\n",
       "    }\n",
       "\n",
       "    .dataframe thead th {\n",
       "        text-align: right;\n",
       "    }\n",
       "</style>\n",
       "<table border=\"1\" class=\"dataframe\">\n",
       "  <thead>\n",
       "    <tr style=\"text-align: right;\">\n",
       "      <th></th>\n",
       "      <th>Customer Id</th>\n",
       "      <th>YearOfObservation</th>\n",
       "      <th>Insured_Period</th>\n",
       "      <th>Residential</th>\n",
       "      <th>Building_Painted</th>\n",
       "      <th>Building_Fenced</th>\n",
       "      <th>Garden</th>\n",
       "      <th>Settlement</th>\n",
       "      <th>Building Dimension</th>\n",
       "      <th>Building_Type</th>\n",
       "      <th>Date_of_Occupancy</th>\n",
       "      <th>NumberOfWindows</th>\n",
       "      <th>Geo_Code</th>\n",
       "      <th>Claim</th>\n",
       "    </tr>\n",
       "  </thead>\n",
       "  <tbody>\n",
       "    <tr>\n",
       "      <th>0</th>\n",
       "      <td>H14663</td>\n",
       "      <td>2013</td>\n",
       "      <td>1.000000</td>\n",
       "      <td>0</td>\n",
       "      <td>N</td>\n",
       "      <td>V</td>\n",
       "      <td>V</td>\n",
       "      <td>U</td>\n",
       "      <td>290.0</td>\n",
       "      <td>1</td>\n",
       "      <td>1960.0</td>\n",
       "      <td>.</td>\n",
       "      <td>1053</td>\n",
       "      <td>0</td>\n",
       "    </tr>\n",
       "    <tr>\n",
       "      <th>1</th>\n",
       "      <td>H2037</td>\n",
       "      <td>2015</td>\n",
       "      <td>1.000000</td>\n",
       "      <td>0</td>\n",
       "      <td>V</td>\n",
       "      <td>N</td>\n",
       "      <td>O</td>\n",
       "      <td>R</td>\n",
       "      <td>490.0</td>\n",
       "      <td>1</td>\n",
       "      <td>1850.0</td>\n",
       "      <td>4</td>\n",
       "      <td>1053</td>\n",
       "      <td>0</td>\n",
       "    </tr>\n",
       "    <tr>\n",
       "      <th>2</th>\n",
       "      <td>H3802</td>\n",
       "      <td>2014</td>\n",
       "      <td>1.000000</td>\n",
       "      <td>0</td>\n",
       "      <td>N</td>\n",
       "      <td>V</td>\n",
       "      <td>V</td>\n",
       "      <td>U</td>\n",
       "      <td>595.0</td>\n",
       "      <td>1</td>\n",
       "      <td>1960.0</td>\n",
       "      <td>.</td>\n",
       "      <td>1053</td>\n",
       "      <td>0</td>\n",
       "    </tr>\n",
       "    <tr>\n",
       "      <th>3</th>\n",
       "      <td>H3834</td>\n",
       "      <td>2013</td>\n",
       "      <td>1.000000</td>\n",
       "      <td>0</td>\n",
       "      <td>V</td>\n",
       "      <td>V</td>\n",
       "      <td>V</td>\n",
       "      <td>U</td>\n",
       "      <td>2840.0</td>\n",
       "      <td>1</td>\n",
       "      <td>1960.0</td>\n",
       "      <td>.</td>\n",
       "      <td>1053</td>\n",
       "      <td>0</td>\n",
       "    </tr>\n",
       "    <tr>\n",
       "      <th>4</th>\n",
       "      <td>H5053</td>\n",
       "      <td>2014</td>\n",
       "      <td>1.000000</td>\n",
       "      <td>0</td>\n",
       "      <td>V</td>\n",
       "      <td>N</td>\n",
       "      <td>O</td>\n",
       "      <td>R</td>\n",
       "      <td>680.0</td>\n",
       "      <td>1</td>\n",
       "      <td>1800.0</td>\n",
       "      <td>3</td>\n",
       "      <td>1053</td>\n",
       "      <td>0</td>\n",
       "    </tr>\n",
       "    <tr>\n",
       "      <th>...</th>\n",
       "      <td>...</td>\n",
       "      <td>...</td>\n",
       "      <td>...</td>\n",
       "      <td>...</td>\n",
       "      <td>...</td>\n",
       "      <td>...</td>\n",
       "      <td>...</td>\n",
       "      <td>...</td>\n",
       "      <td>...</td>\n",
       "      <td>...</td>\n",
       "      <td>...</td>\n",
       "      <td>...</td>\n",
       "      <td>...</td>\n",
       "      <td>...</td>\n",
       "    </tr>\n",
       "    <tr>\n",
       "      <th>7155</th>\n",
       "      <td>H5290</td>\n",
       "      <td>2012</td>\n",
       "      <td>1.000000</td>\n",
       "      <td>1</td>\n",
       "      <td>V</td>\n",
       "      <td>V</td>\n",
       "      <td>V</td>\n",
       "      <td>U</td>\n",
       "      <td>NaN</td>\n",
       "      <td>1</td>\n",
       "      <td>2001.0</td>\n",
       "      <td>.</td>\n",
       "      <td>NaN</td>\n",
       "      <td>0</td>\n",
       "    </tr>\n",
       "    <tr>\n",
       "      <th>7156</th>\n",
       "      <td>H5926</td>\n",
       "      <td>2013</td>\n",
       "      <td>1.000000</td>\n",
       "      <td>0</td>\n",
       "      <td>V</td>\n",
       "      <td>V</td>\n",
       "      <td>V</td>\n",
       "      <td>U</td>\n",
       "      <td>NaN</td>\n",
       "      <td>2</td>\n",
       "      <td>1980.0</td>\n",
       "      <td>.</td>\n",
       "      <td>NaN</td>\n",
       "      <td>1</td>\n",
       "    </tr>\n",
       "    <tr>\n",
       "      <th>7157</th>\n",
       "      <td>H6204</td>\n",
       "      <td>2016</td>\n",
       "      <td>0.038251</td>\n",
       "      <td>0</td>\n",
       "      <td>V</td>\n",
       "      <td>V</td>\n",
       "      <td>V</td>\n",
       "      <td>U</td>\n",
       "      <td>NaN</td>\n",
       "      <td>1</td>\n",
       "      <td>1992.0</td>\n",
       "      <td>.</td>\n",
       "      <td>NaN</td>\n",
       "      <td>0</td>\n",
       "    </tr>\n",
       "    <tr>\n",
       "      <th>7158</th>\n",
       "      <td>H6537</td>\n",
       "      <td>2013</td>\n",
       "      <td>1.000000</td>\n",
       "      <td>0</td>\n",
       "      <td>V</td>\n",
       "      <td>V</td>\n",
       "      <td>V</td>\n",
       "      <td>U</td>\n",
       "      <td>NaN</td>\n",
       "      <td>1</td>\n",
       "      <td>1972.0</td>\n",
       "      <td>.</td>\n",
       "      <td>NaN</td>\n",
       "      <td>0</td>\n",
       "    </tr>\n",
       "    <tr>\n",
       "      <th>7159</th>\n",
       "      <td>H7470</td>\n",
       "      <td>2014</td>\n",
       "      <td>1.000000</td>\n",
       "      <td>0</td>\n",
       "      <td>V</td>\n",
       "      <td>V</td>\n",
       "      <td>V</td>\n",
       "      <td>U</td>\n",
       "      <td>NaN</td>\n",
       "      <td>1</td>\n",
       "      <td>2004.0</td>\n",
       "      <td>.</td>\n",
       "      <td>NaN</td>\n",
       "      <td>0</td>\n",
       "    </tr>\n",
       "  </tbody>\n",
       "</table>\n",
       "<p>7160 rows × 14 columns</p>\n",
       "</div>"
      ],
      "text/plain": [
       "     Customer Id  YearOfObservation  Insured_Period  Residential  \\\n",
       "0         H14663               2013        1.000000            0   \n",
       "1          H2037               2015        1.000000            0   \n",
       "2          H3802               2014        1.000000            0   \n",
       "3          H3834               2013        1.000000            0   \n",
       "4          H5053               2014        1.000000            0   \n",
       "...          ...                ...             ...          ...   \n",
       "7155       H5290               2012        1.000000            1   \n",
       "7156       H5926               2013        1.000000            0   \n",
       "7157       H6204               2016        0.038251            0   \n",
       "7158       H6537               2013        1.000000            0   \n",
       "7159       H7470               2014        1.000000            0   \n",
       "\n",
       "     Building_Painted Building_Fenced Garden Settlement  Building Dimension  \\\n",
       "0                   N               V      V          U               290.0   \n",
       "1                   V               N      O          R               490.0   \n",
       "2                   N               V      V          U               595.0   \n",
       "3                   V               V      V          U              2840.0   \n",
       "4                   V               N      O          R               680.0   \n",
       "...               ...             ...    ...        ...                 ...   \n",
       "7155                V               V      V          U                 NaN   \n",
       "7156                V               V      V          U                 NaN   \n",
       "7157                V               V      V          U                 NaN   \n",
       "7158                V               V      V          U                 NaN   \n",
       "7159                V               V      V          U                 NaN   \n",
       "\n",
       "      Building_Type  Date_of_Occupancy NumberOfWindows Geo_Code  Claim  \n",
       "0                 1             1960.0               .     1053      0  \n",
       "1                 1             1850.0               4     1053      0  \n",
       "2                 1             1960.0               .     1053      0  \n",
       "3                 1             1960.0               .     1053      0  \n",
       "4                 1             1800.0               3     1053      0  \n",
       "...             ...                ...             ...      ...    ...  \n",
       "7155              1             2001.0               .      NaN      0  \n",
       "7156              2             1980.0               .      NaN      1  \n",
       "7157              1             1992.0               .      NaN      0  \n",
       "7158              1             1972.0               .      NaN      0  \n",
       "7159              1             2004.0               .      NaN      0  \n",
       "\n",
       "[7160 rows x 14 columns]"
      ]
     },
     "execution_count": 2,
     "metadata": {},
     "output_type": "execute_result"
    }
   ],
   "source": [
    "#Loading the Training Dataset\n",
    "\n",
    "df_train = pd.read_csv(\"C:/Users/HP/Zoomcamp/Datasets/train_data.csv\")\n",
    "df_train"
   ]
  },
  {
   "cell_type": "code",
   "execution_count": 3,
   "id": "c65d6a83",
   "metadata": {},
   "outputs": [
    {
     "name": "stdout",
     "output_type": "stream",
     "text": [
      "False    7160\n",
      "dtype: int64\n",
      "7160\n"
     ]
    }
   ],
   "source": [
    "# Checking for Duplicates\n",
    "print(df_train.duplicated().value_counts())\n",
    "df_train.drop_duplicates(inplace = True)\n",
    "print(len(df_train))"
   ]
  },
  {
   "cell_type": "code",
   "execution_count": 4,
   "id": "3be5fa77",
   "metadata": {},
   "outputs": [
    {
     "data": {
      "text/html": [
       "<div>\n",
       "<style scoped>\n",
       "    .dataframe tbody tr th:only-of-type {\n",
       "        vertical-align: middle;\n",
       "    }\n",
       "\n",
       "    .dataframe tbody tr th {\n",
       "        vertical-align: top;\n",
       "    }\n",
       "\n",
       "    .dataframe thead th {\n",
       "        text-align: right;\n",
       "    }\n",
       "</style>\n",
       "<table border=\"1\" class=\"dataframe\">\n",
       "  <thead>\n",
       "    <tr style=\"text-align: right;\">\n",
       "      <th></th>\n",
       "      <th>0</th>\n",
       "      <th>1</th>\n",
       "      <th>2</th>\n",
       "      <th>3</th>\n",
       "      <th>4</th>\n",
       "    </tr>\n",
       "  </thead>\n",
       "  <tbody>\n",
       "    <tr>\n",
       "      <th>Customer Id</th>\n",
       "      <td>H14663</td>\n",
       "      <td>H2037</td>\n",
       "      <td>H3802</td>\n",
       "      <td>H3834</td>\n",
       "      <td>H5053</td>\n",
       "    </tr>\n",
       "    <tr>\n",
       "      <th>YearOfObservation</th>\n",
       "      <td>2013</td>\n",
       "      <td>2015</td>\n",
       "      <td>2014</td>\n",
       "      <td>2013</td>\n",
       "      <td>2014</td>\n",
       "    </tr>\n",
       "    <tr>\n",
       "      <th>Insured_Period</th>\n",
       "      <td>1.0</td>\n",
       "      <td>1.0</td>\n",
       "      <td>1.0</td>\n",
       "      <td>1.0</td>\n",
       "      <td>1.0</td>\n",
       "    </tr>\n",
       "    <tr>\n",
       "      <th>Residential</th>\n",
       "      <td>0</td>\n",
       "      <td>0</td>\n",
       "      <td>0</td>\n",
       "      <td>0</td>\n",
       "      <td>0</td>\n",
       "    </tr>\n",
       "    <tr>\n",
       "      <th>Building_Painted</th>\n",
       "      <td>N</td>\n",
       "      <td>V</td>\n",
       "      <td>N</td>\n",
       "      <td>V</td>\n",
       "      <td>V</td>\n",
       "    </tr>\n",
       "    <tr>\n",
       "      <th>Building_Fenced</th>\n",
       "      <td>V</td>\n",
       "      <td>N</td>\n",
       "      <td>V</td>\n",
       "      <td>V</td>\n",
       "      <td>N</td>\n",
       "    </tr>\n",
       "    <tr>\n",
       "      <th>Garden</th>\n",
       "      <td>V</td>\n",
       "      <td>O</td>\n",
       "      <td>V</td>\n",
       "      <td>V</td>\n",
       "      <td>O</td>\n",
       "    </tr>\n",
       "    <tr>\n",
       "      <th>Settlement</th>\n",
       "      <td>U</td>\n",
       "      <td>R</td>\n",
       "      <td>U</td>\n",
       "      <td>U</td>\n",
       "      <td>R</td>\n",
       "    </tr>\n",
       "    <tr>\n",
       "      <th>Building Dimension</th>\n",
       "      <td>290.0</td>\n",
       "      <td>490.0</td>\n",
       "      <td>595.0</td>\n",
       "      <td>2840.0</td>\n",
       "      <td>680.0</td>\n",
       "    </tr>\n",
       "    <tr>\n",
       "      <th>Building_Type</th>\n",
       "      <td>1</td>\n",
       "      <td>1</td>\n",
       "      <td>1</td>\n",
       "      <td>1</td>\n",
       "      <td>1</td>\n",
       "    </tr>\n",
       "    <tr>\n",
       "      <th>Date_of_Occupancy</th>\n",
       "      <td>1960.0</td>\n",
       "      <td>1850.0</td>\n",
       "      <td>1960.0</td>\n",
       "      <td>1960.0</td>\n",
       "      <td>1800.0</td>\n",
       "    </tr>\n",
       "    <tr>\n",
       "      <th>NumberOfWindows</th>\n",
       "      <td>.</td>\n",
       "      <td>4</td>\n",
       "      <td>.</td>\n",
       "      <td>.</td>\n",
       "      <td>3</td>\n",
       "    </tr>\n",
       "    <tr>\n",
       "      <th>Geo_Code</th>\n",
       "      <td>1053</td>\n",
       "      <td>1053</td>\n",
       "      <td>1053</td>\n",
       "      <td>1053</td>\n",
       "      <td>1053</td>\n",
       "    </tr>\n",
       "    <tr>\n",
       "      <th>Claim</th>\n",
       "      <td>0</td>\n",
       "      <td>0</td>\n",
       "      <td>0</td>\n",
       "      <td>0</td>\n",
       "      <td>0</td>\n",
       "    </tr>\n",
       "  </tbody>\n",
       "</table>\n",
       "</div>"
      ],
      "text/plain": [
       "                         0       1       2       3       4\n",
       "Customer Id         H14663   H2037   H3802   H3834   H5053\n",
       "YearOfObservation     2013    2015    2014    2013    2014\n",
       "Insured_Period         1.0     1.0     1.0     1.0     1.0\n",
       "Residential              0       0       0       0       0\n",
       "Building_Painted         N       V       N       V       V\n",
       "Building_Fenced          V       N       V       V       N\n",
       "Garden                   V       O       V       V       O\n",
       "Settlement               U       R       U       U       R\n",
       "Building Dimension   290.0   490.0   595.0  2840.0   680.0\n",
       "Building_Type            1       1       1       1       1\n",
       "Date_of_Occupancy   1960.0  1850.0  1960.0  1960.0  1800.0\n",
       "NumberOfWindows          .       4       .       .       3\n",
       "Geo_Code              1053    1053    1053    1053    1053\n",
       "Claim                    0       0       0       0       0"
      ]
     },
     "execution_count": 4,
     "metadata": {},
     "output_type": "execute_result"
    }
   ],
   "source": [
    "# Viewing all coulmns as rows\n",
    "df_train.head().T"
   ]
  },
  {
   "cell_type": "code",
   "execution_count": 5,
   "id": "2becbb38",
   "metadata": {},
   "outputs": [],
   "source": [
    "# Making columns uniform by changing all of them to lowercase\n",
    "\n",
    "df_train.columns = df_train.columns.str.lower().str.replace(' ', '_')\n",
    "\n",
    "string_columns = list(df_train.dtypes[df_train.dtypes == 'object'].index)\n",
    "\n",
    "for col in string_columns:\n",
    "    df_train[col] = df_train[col].str.lower().str.replace(' ', '_')"
   ]
  },
  {
   "cell_type": "code",
   "execution_count": 6,
   "id": "8f3d368c",
   "metadata": {},
   "outputs": [],
   "source": [
    "# Converting the values in the numberofwindows column that are not numeric and... \n",
    "#...contain the string '.' and replacing them with the median.\n",
    "\n",
    "df_train['numberofwindows'] = pd.to_numeric(df_train['numberofwindows'], errors='coerce')\n",
    "\n",
    "# Calculating the median value (ignoring NaN)\n",
    "median_value = round(df_train['numberofwindows'].median(skipna=True))\n",
    "\n",
    "# Replaceing NaN values with the median\n",
    "df_train['numberofwindows'].fillna(median_value, inplace=True)\n",
    "\n",
    "# Converting the column to an integer\n",
    "df_train['numberofwindows'] = df_train['numberofwindows'].astype(int)"
   ]
  },
  {
   "cell_type": "code",
   "execution_count": 7,
   "id": "bdbcce56",
   "metadata": {},
   "outputs": [
    {
     "data": {
      "text/html": [
       "<div>\n",
       "<style scoped>\n",
       "    .dataframe tbody tr th:only-of-type {\n",
       "        vertical-align: middle;\n",
       "    }\n",
       "\n",
       "    .dataframe tbody tr th {\n",
       "        vertical-align: top;\n",
       "    }\n",
       "\n",
       "    .dataframe thead th {\n",
       "        text-align: right;\n",
       "    }\n",
       "</style>\n",
       "<table border=\"1\" class=\"dataframe\">\n",
       "  <thead>\n",
       "    <tr style=\"text-align: right;\">\n",
       "      <th></th>\n",
       "      <th>yearofobservation</th>\n",
       "      <th>insured_period</th>\n",
       "      <th>residential</th>\n",
       "      <th>building_dimension</th>\n",
       "      <th>building_type</th>\n",
       "      <th>date_of_occupancy</th>\n",
       "      <th>numberofwindows</th>\n",
       "      <th>claim</th>\n",
       "    </tr>\n",
       "  </thead>\n",
       "  <tbody>\n",
       "    <tr>\n",
       "      <th>count</th>\n",
       "      <td>7160.000</td>\n",
       "      <td>7160.000</td>\n",
       "      <td>7160.000</td>\n",
       "      <td>7054.000</td>\n",
       "      <td>7160.000</td>\n",
       "      <td>6652.000</td>\n",
       "      <td>7160.000</td>\n",
       "      <td>7160.000</td>\n",
       "    </tr>\n",
       "    <tr>\n",
       "      <th>mean</th>\n",
       "      <td>2013.670</td>\n",
       "      <td>0.910</td>\n",
       "      <td>0.305</td>\n",
       "      <td>1883.728</td>\n",
       "      <td>2.186</td>\n",
       "      <td>1964.456</td>\n",
       "      <td>4.111</td>\n",
       "      <td>0.228</td>\n",
       "    </tr>\n",
       "    <tr>\n",
       "      <th>std</th>\n",
       "      <td>1.384</td>\n",
       "      <td>0.240</td>\n",
       "      <td>0.461</td>\n",
       "      <td>2278.158</td>\n",
       "      <td>0.941</td>\n",
       "      <td>36.002</td>\n",
       "      <td>1.166</td>\n",
       "      <td>0.420</td>\n",
       "    </tr>\n",
       "    <tr>\n",
       "      <th>min</th>\n",
       "      <td>2012.000</td>\n",
       "      <td>0.000</td>\n",
       "      <td>0.000</td>\n",
       "      <td>1.000</td>\n",
       "      <td>1.000</td>\n",
       "      <td>1545.000</td>\n",
       "      <td>1.000</td>\n",
       "      <td>0.000</td>\n",
       "    </tr>\n",
       "    <tr>\n",
       "      <th>25%</th>\n",
       "      <td>2012.000</td>\n",
       "      <td>0.997</td>\n",
       "      <td>0.000</td>\n",
       "      <td>528.000</td>\n",
       "      <td>2.000</td>\n",
       "      <td>1960.000</td>\n",
       "      <td>4.000</td>\n",
       "      <td>0.000</td>\n",
       "    </tr>\n",
       "    <tr>\n",
       "      <th>50%</th>\n",
       "      <td>2013.000</td>\n",
       "      <td>1.000</td>\n",
       "      <td>0.000</td>\n",
       "      <td>1083.000</td>\n",
       "      <td>2.000</td>\n",
       "      <td>1970.000</td>\n",
       "      <td>4.000</td>\n",
       "      <td>0.000</td>\n",
       "    </tr>\n",
       "    <tr>\n",
       "      <th>75%</th>\n",
       "      <td>2015.000</td>\n",
       "      <td>1.000</td>\n",
       "      <td>1.000</td>\n",
       "      <td>2289.750</td>\n",
       "      <td>3.000</td>\n",
       "      <td>1980.000</td>\n",
       "      <td>4.000</td>\n",
       "      <td>0.000</td>\n",
       "    </tr>\n",
       "    <tr>\n",
       "      <th>max</th>\n",
       "      <td>2016.000</td>\n",
       "      <td>1.000</td>\n",
       "      <td>1.000</td>\n",
       "      <td>20940.000</td>\n",
       "      <td>4.000</td>\n",
       "      <td>2016.000</td>\n",
       "      <td>9.000</td>\n",
       "      <td>1.000</td>\n",
       "    </tr>\n",
       "  </tbody>\n",
       "</table>\n",
       "</div>"
      ],
      "text/plain": [
       "       yearofobservation  insured_period  residential  building_dimension  \\\n",
       "count           7160.000        7160.000     7160.000            7054.000   \n",
       "mean            2013.670           0.910        0.305            1883.728   \n",
       "std                1.384           0.240        0.461            2278.158   \n",
       "min             2012.000           0.000        0.000               1.000   \n",
       "25%             2012.000           0.997        0.000             528.000   \n",
       "50%             2013.000           1.000        0.000            1083.000   \n",
       "75%             2015.000           1.000        1.000            2289.750   \n",
       "max             2016.000           1.000        1.000           20940.000   \n",
       "\n",
       "       building_type  date_of_occupancy  numberofwindows     claim  \n",
       "count       7160.000           6652.000         7160.000  7160.000  \n",
       "mean           2.186           1964.456            4.111     0.228  \n",
       "std            0.941             36.002            1.166     0.420  \n",
       "min            1.000           1545.000            1.000     0.000  \n",
       "25%            2.000           1960.000            4.000     0.000  \n",
       "50%            2.000           1970.000            4.000     0.000  \n",
       "75%            3.000           1980.000            4.000     0.000  \n",
       "max            4.000           2016.000            9.000     1.000  "
      ]
     },
     "execution_count": 7,
     "metadata": {},
     "output_type": "execute_result"
    }
   ],
   "source": [
    "# Summary of statistics\n",
    "\n",
    "df_train.describe().round(3)"
   ]
  },
  {
   "cell_type": "code",
   "execution_count": 8,
   "id": "87edfec1",
   "metadata": {},
   "outputs": [
    {
     "ename": "NameError",
     "evalue": "name 'column_datatype' is not defined",
     "output_type": "error",
     "traceback": [
      "\u001b[1;31m---------------------------------------------------------------------------\u001b[0m",
      "\u001b[1;31mNameError\u001b[0m                                 Traceback (most recent call last)",
      "Cell \u001b[1;32mIn[8], line 3\u001b[0m\n\u001b[0;32m      1\u001b[0m \u001b[38;5;66;03m# Matching columns with their respective datatypes\u001b[39;00m\n\u001b[1;32m----> 3\u001b[0m columns_datatype \u001b[38;5;241m=\u001b[39m \u001b[38;5;28mlist\u001b[39m(\u001b[38;5;28mzip\u001b[39m(df_train\u001b[38;5;241m.\u001b[39mcolumns, \u001b[43mcolumn_datatype\u001b[49m))\n\u001b[0;32m      4\u001b[0m columns_datatype\n",
      "\u001b[1;31mNameError\u001b[0m: name 'column_datatype' is not defined"
     ]
    }
   ],
   "source": [
    "# Matching columns with their respective datatypes\n",
    "\n",
    "columns_datatype = list(zip(df_train.columns, column_datatype))\n",
    "columns_datatype"
   ]
  },
  {
   "cell_type": "code",
   "execution_count": null,
   "id": "0cc28049",
   "metadata": {},
   "outputs": [],
   "source": [
    "# Finding columns with missing values\n",
    "\n",
    "columns_with_missing_values = df_train.columns[df_train.isna().any()]\n",
    "columns_with_missing_values"
   ]
  },
  {
   "cell_type": "code",
   "execution_count": 9,
   "id": "589b5650",
   "metadata": {},
   "outputs": [
    {
     "data": {
      "text/plain": [
       "customer_id             0\n",
       "yearofobservation       0\n",
       "insured_period          0\n",
       "residential             0\n",
       "building_painted        0\n",
       "building_fenced         0\n",
       "garden                  7\n",
       "settlement              0\n",
       "building_dimension    106\n",
       "building_type           0\n",
       "date_of_occupancy     508\n",
       "numberofwindows         0\n",
       "geo_code              102\n",
       "claim                   0\n",
       "dtype: int64"
      ]
     },
     "execution_count": 9,
     "metadata": {},
     "output_type": "execute_result"
    }
   ],
   "source": [
    "# Finding the sum of missing values in each columns\n",
    "\n",
    "df_train.isnull().sum()"
   ]
  },
  {
   "cell_type": "code",
   "execution_count": 10,
   "id": "6def0362",
   "metadata": {},
   "outputs": [
    {
     "data": {
      "image/png": "[encoded data removed]",
      "text/plain": [
       "<Figure size 640x480 with 1 Axes>"
      ]
     },
     "metadata": {},
     "output_type": "display_data"
    }
   ],
   "source": [
    "# Visualizing the distribution of the data using a histogram\n",
    "\n",
    "numerical_columns = ['yearofobservation', 'insured_period', 'residential', \n",
    "            'building_dimension', 'building_type', 'date_of_occupancy']\n",
    "\n",
    "# Plotting a histogram\n",
    "plt.hist(df_train[numerical_columns], bins=20, edgecolor='black')\n",
    "plt.title('Histogram of numerical columns')\n",
    "plt.xlabel('numerical columns Values')\n",
    "plt.ylabel('Frequency')\n",
    "plt.show()"
   ]
  },
  {
   "cell_type": "code",
   "execution_count": 11,
   "id": "efaecd2a",
   "metadata": {},
   "outputs": [],
   "source": [
    "# Handling Missing Values\n",
    "# Using median since the distribution of the data is positively skewed\n",
    "\n",
    "df_train['garden'].fillna('U', inplace=True)\n",
    "\n",
    "df_train['building_dimension'].fillna(df_train['building_dimension'].median(), inplace=True)\n",
    "\n",
    "df_train['date_of_occupancy'].fillna(df_train['date_of_occupancy'].median(), inplace=True)\n",
    "\n",
    "df_train['geo_code'].fillna('U', inplace=True)"
   ]
  },
  {
   "cell_type": "code",
   "execution_count": 12,
   "id": "90a78289",
   "metadata": {},
   "outputs": [
    {
     "data": {
      "text/html": [
       "<div>\n",
       "<style scoped>\n",
       "    .dataframe tbody tr th:only-of-type {\n",
       "        vertical-align: middle;\n",
       "    }\n",
       "\n",
       "    .dataframe tbody tr th {\n",
       "        vertical-align: top;\n",
       "    }\n",
       "\n",
       "    .dataframe thead th {\n",
       "        text-align: right;\n",
       "    }\n",
       "</style>\n",
       "<table border=\"1\" class=\"dataframe\">\n",
       "  <thead>\n",
       "    <tr style=\"text-align: right;\">\n",
       "      <th></th>\n",
       "      <th>0</th>\n",
       "      <th>1</th>\n",
       "      <th>2</th>\n",
       "      <th>3</th>\n",
       "      <th>4</th>\n",
       "    </tr>\n",
       "  </thead>\n",
       "  <tbody>\n",
       "    <tr>\n",
       "      <th>customer_id</th>\n",
       "      <td>h14663</td>\n",
       "      <td>h2037</td>\n",
       "      <td>h3802</td>\n",
       "      <td>h3834</td>\n",
       "      <td>h5053</td>\n",
       "    </tr>\n",
       "    <tr>\n",
       "      <th>yearofobservation</th>\n",
       "      <td>2013</td>\n",
       "      <td>2015</td>\n",
       "      <td>2014</td>\n",
       "      <td>2013</td>\n",
       "      <td>2014</td>\n",
       "    </tr>\n",
       "    <tr>\n",
       "      <th>insured_period</th>\n",
       "      <td>1.0</td>\n",
       "      <td>1.0</td>\n",
       "      <td>1.0</td>\n",
       "      <td>1.0</td>\n",
       "      <td>1.0</td>\n",
       "    </tr>\n",
       "    <tr>\n",
       "      <th>residential</th>\n",
       "      <td>0</td>\n",
       "      <td>0</td>\n",
       "      <td>0</td>\n",
       "      <td>0</td>\n",
       "      <td>0</td>\n",
       "    </tr>\n",
       "    <tr>\n",
       "      <th>building_painted</th>\n",
       "      <td>n</td>\n",
       "      <td>v</td>\n",
       "      <td>n</td>\n",
       "      <td>v</td>\n",
       "      <td>v</td>\n",
       "    </tr>\n",
       "    <tr>\n",
       "      <th>building_fenced</th>\n",
       "      <td>v</td>\n",
       "      <td>n</td>\n",
       "      <td>v</td>\n",
       "      <td>v</td>\n",
       "      <td>n</td>\n",
       "    </tr>\n",
       "    <tr>\n",
       "      <th>garden</th>\n",
       "      <td>v</td>\n",
       "      <td>o</td>\n",
       "      <td>v</td>\n",
       "      <td>v</td>\n",
       "      <td>o</td>\n",
       "    </tr>\n",
       "    <tr>\n",
       "      <th>settlement</th>\n",
       "      <td>u</td>\n",
       "      <td>r</td>\n",
       "      <td>u</td>\n",
       "      <td>u</td>\n",
       "      <td>r</td>\n",
       "    </tr>\n",
       "    <tr>\n",
       "      <th>building_dimension</th>\n",
       "      <td>290.0</td>\n",
       "      <td>490.0</td>\n",
       "      <td>595.0</td>\n",
       "      <td>2840.0</td>\n",
       "      <td>680.0</td>\n",
       "    </tr>\n",
       "    <tr>\n",
       "      <th>building_type</th>\n",
       "      <td>1</td>\n",
       "      <td>1</td>\n",
       "      <td>1</td>\n",
       "      <td>1</td>\n",
       "      <td>1</td>\n",
       "    </tr>\n",
       "    <tr>\n",
       "      <th>date_of_occupancy</th>\n",
       "      <td>1960.0</td>\n",
       "      <td>1850.0</td>\n",
       "      <td>1960.0</td>\n",
       "      <td>1960.0</td>\n",
       "      <td>1800.0</td>\n",
       "    </tr>\n",
       "    <tr>\n",
       "      <th>numberofwindows</th>\n",
       "      <td>4</td>\n",
       "      <td>4</td>\n",
       "      <td>4</td>\n",
       "      <td>4</td>\n",
       "      <td>3</td>\n",
       "    </tr>\n",
       "    <tr>\n",
       "      <th>geo_code</th>\n",
       "      <td>1053</td>\n",
       "      <td>1053</td>\n",
       "      <td>1053</td>\n",
       "      <td>1053</td>\n",
       "      <td>1053</td>\n",
       "    </tr>\n",
       "    <tr>\n",
       "      <th>claim</th>\n",
       "      <td>0</td>\n",
       "      <td>0</td>\n",
       "      <td>0</td>\n",
       "      <td>0</td>\n",
       "      <td>0</td>\n",
       "    </tr>\n",
       "  </tbody>\n",
       "</table>\n",
       "</div>"
      ],
      "text/plain": [
       "                         0       1       2       3       4\n",
       "customer_id         h14663   h2037   h3802   h3834   h5053\n",
       "yearofobservation     2013    2015    2014    2013    2014\n",
       "insured_period         1.0     1.0     1.0     1.0     1.0\n",
       "residential              0       0       0       0       0\n",
       "building_painted         n       v       n       v       v\n",
       "building_fenced          v       n       v       v       n\n",
       "garden                   v       o       v       v       o\n",
       "settlement               u       r       u       u       r\n",
       "building_dimension   290.0   490.0   595.0  2840.0   680.0\n",
       "building_type            1       1       1       1       1\n",
       "date_of_occupancy   1960.0  1850.0  1960.0  1960.0  1800.0\n",
       "numberofwindows          4       4       4       4       3\n",
       "geo_code              1053    1053    1053    1053    1053\n",
       "claim                    0       0       0       0       0"
      ]
     },
     "execution_count": 12,
     "metadata": {},
     "output_type": "execute_result"
    }
   ],
   "source": [
    "df_train.head().T"
   ]
  },
  {
   "cell_type": "code",
   "execution_count": 13,
   "id": "c6468d80",
   "metadata": {},
   "outputs": [
    {
     "data": {
      "text/plain": [
       "0    5526\n",
       "1    1634\n",
       "Name: claim, dtype: int64"
      ]
     },
     "execution_count": 13,
     "metadata": {},
     "output_type": "execute_result"
    }
   ],
   "source": [
    "# Exploring the distribution of the target variable\n",
    "\n",
    "df_train['claim'].value_counts()"
   ]
  },
  {
   "cell_type": "code",
   "execution_count": 14,
   "id": "4adb58e4",
   "metadata": {},
   "outputs": [
    {
     "data": {
      "text/plain": [
       "0    0.771788\n",
       "1    0.228212\n",
       "Name: claim, dtype: float64"
      ]
     },
     "execution_count": 14,
     "metadata": {},
     "output_type": "execute_result"
    }
   ],
   "source": [
    "# Getting the percentage of the count (Claim Rate)\n",
    "\n",
    "df_train.claim.value_counts(normalize=True)"
   ]
  },
  {
   "cell_type": "markdown",
   "id": "709f70c7",
   "metadata": {},
   "source": [
    "### Encoding Categorical variables\n",
    "\n",
    "* settlement (1 - Rural Areas(R), 0 - Urban Areas(U))\n",
    "* garden (1 - has garden(V), 0 - no garden(O))\n",
    "* building_fenced (1 - fenced(N), 0 - not fenced(V))\n",
    "* building_painted (1 - painted(N), 0 - not painted(V))"
   ]
  },
  {
   "cell_type": "code",
   "execution_count": 15,
   "id": "7bf1b8b2",
   "metadata": {},
   "outputs": [],
   "source": [
    "categorical_columns = ['building_painted', 'building_fenced', 'garden', 'settlement']"
   ]
  },
  {
   "cell_type": "code",
   "execution_count": 16,
   "id": "677235ec",
   "metadata": {},
   "outputs": [],
   "source": [
    "df_train['garden'] = df_train['garden'].apply(lambda x: 1 if x == 'v' else 0)"
   ]
  },
  {
   "cell_type": "code",
   "execution_count": 17,
   "id": "8ad084e3",
   "metadata": {},
   "outputs": [],
   "source": [
    "df_train['settlement'] = df_train['settlement'].apply(lambda x: 1 if x == 'r' else 0)"
   ]
  },
  {
   "cell_type": "code",
   "execution_count": 18,
   "id": "6e28fd72",
   "metadata": {},
   "outputs": [],
   "source": [
    "df_train['building_fenced'] = df_train['building_fenced'].apply(lambda x: 1 if x == 'n' else 0)"
   ]
  },
  {
   "cell_type": "code",
   "execution_count": 19,
   "id": "b979b7e1",
   "metadata": {},
   "outputs": [],
   "source": [
    "df_train['building_painted'] = df_train['building_painted'].apply(lambda x: 1 if x == 'n' else 0)"
   ]
  },
  {
   "cell_type": "code",
   "execution_count": 20,
   "id": "783983e1",
   "metadata": {},
   "outputs": [
    {
     "data": {
      "text/html": [
       "<div>\n",
       "<style scoped>\n",
       "    .dataframe tbody tr th:only-of-type {\n",
       "        vertical-align: middle;\n",
       "    }\n",
       "\n",
       "    .dataframe tbody tr th {\n",
       "        vertical-align: top;\n",
       "    }\n",
       "\n",
       "    .dataframe thead th {\n",
       "        text-align: right;\n",
       "    }\n",
       "</style>\n",
       "<table border=\"1\" class=\"dataframe\">\n",
       "  <thead>\n",
       "    <tr style=\"text-align: right;\">\n",
       "      <th></th>\n",
       "      <th>0</th>\n",
       "      <th>1</th>\n",
       "      <th>2</th>\n",
       "      <th>3</th>\n",
       "      <th>4</th>\n",
       "    </tr>\n",
       "  </thead>\n",
       "  <tbody>\n",
       "    <tr>\n",
       "      <th>customer_id</th>\n",
       "      <td>h14663</td>\n",
       "      <td>h2037</td>\n",
       "      <td>h3802</td>\n",
       "      <td>h3834</td>\n",
       "      <td>h5053</td>\n",
       "    </tr>\n",
       "    <tr>\n",
       "      <th>yearofobservation</th>\n",
       "      <td>2013</td>\n",
       "      <td>2015</td>\n",
       "      <td>2014</td>\n",
       "      <td>2013</td>\n",
       "      <td>2014</td>\n",
       "    </tr>\n",
       "    <tr>\n",
       "      <th>insured_period</th>\n",
       "      <td>1.0</td>\n",
       "      <td>1.0</td>\n",
       "      <td>1.0</td>\n",
       "      <td>1.0</td>\n",
       "      <td>1.0</td>\n",
       "    </tr>\n",
       "    <tr>\n",
       "      <th>residential</th>\n",
       "      <td>0</td>\n",
       "      <td>0</td>\n",
       "      <td>0</td>\n",
       "      <td>0</td>\n",
       "      <td>0</td>\n",
       "    </tr>\n",
       "    <tr>\n",
       "      <th>building_painted</th>\n",
       "      <td>1</td>\n",
       "      <td>0</td>\n",
       "      <td>1</td>\n",
       "      <td>0</td>\n",
       "      <td>0</td>\n",
       "    </tr>\n",
       "    <tr>\n",
       "      <th>building_fenced</th>\n",
       "      <td>0</td>\n",
       "      <td>1</td>\n",
       "      <td>0</td>\n",
       "      <td>0</td>\n",
       "      <td>1</td>\n",
       "    </tr>\n",
       "    <tr>\n",
       "      <th>garden</th>\n",
       "      <td>1</td>\n",
       "      <td>0</td>\n",
       "      <td>1</td>\n",
       "      <td>1</td>\n",
       "      <td>0</td>\n",
       "    </tr>\n",
       "    <tr>\n",
       "      <th>settlement</th>\n",
       "      <td>0</td>\n",
       "      <td>1</td>\n",
       "      <td>0</td>\n",
       "      <td>0</td>\n",
       "      <td>1</td>\n",
       "    </tr>\n",
       "    <tr>\n",
       "      <th>building_dimension</th>\n",
       "      <td>290.0</td>\n",
       "      <td>490.0</td>\n",
       "      <td>595.0</td>\n",
       "      <td>2840.0</td>\n",
       "      <td>680.0</td>\n",
       "    </tr>\n",
       "    <tr>\n",
       "      <th>building_type</th>\n",
       "      <td>1</td>\n",
       "      <td>1</td>\n",
       "      <td>1</td>\n",
       "      <td>1</td>\n",
       "      <td>1</td>\n",
       "    </tr>\n",
       "    <tr>\n",
       "      <th>date_of_occupancy</th>\n",
       "      <td>1960.0</td>\n",
       "      <td>1850.0</td>\n",
       "      <td>1960.0</td>\n",
       "      <td>1960.0</td>\n",
       "      <td>1800.0</td>\n",
       "    </tr>\n",
       "    <tr>\n",
       "      <th>numberofwindows</th>\n",
       "      <td>4</td>\n",
       "      <td>4</td>\n",
       "      <td>4</td>\n",
       "      <td>4</td>\n",
       "      <td>3</td>\n",
       "    </tr>\n",
       "    <tr>\n",
       "      <th>geo_code</th>\n",
       "      <td>1053</td>\n",
       "      <td>1053</td>\n",
       "      <td>1053</td>\n",
       "      <td>1053</td>\n",
       "      <td>1053</td>\n",
       "    </tr>\n",
       "    <tr>\n",
       "      <th>claim</th>\n",
       "      <td>0</td>\n",
       "      <td>0</td>\n",
       "      <td>0</td>\n",
       "      <td>0</td>\n",
       "      <td>0</td>\n",
       "    </tr>\n",
       "  </tbody>\n",
       "</table>\n",
       "</div>"
      ],
      "text/plain": [
       "                         0       1       2       3       4\n",
       "customer_id         h14663   h2037   h3802   h3834   h5053\n",
       "yearofobservation     2013    2015    2014    2013    2014\n",
       "insured_period         1.0     1.0     1.0     1.0     1.0\n",
       "residential              0       0       0       0       0\n",
       "building_painted         1       0       1       0       0\n",
       "building_fenced          0       1       0       0       1\n",
       "garden                   1       0       1       1       0\n",
       "settlement               0       1       0       0       1\n",
       "building_dimension   290.0   490.0   595.0  2840.0   680.0\n",
       "building_type            1       1       1       1       1\n",
       "date_of_occupancy   1960.0  1850.0  1960.0  1960.0  1800.0\n",
       "numberofwindows          4       4       4       4       3\n",
       "geo_code              1053    1053    1053    1053    1053\n",
       "claim                    0       0       0       0       0"
      ]
     },
     "execution_count": 20,
     "metadata": {},
     "output_type": "execute_result"
    }
   ],
   "source": [
    "df_train.head().T"
   ]
  },
  {
   "cell_type": "markdown",
   "id": "b67d3f89",
   "metadata": {},
   "source": [
    "### Visualizing independent variables vs dependent variable"
   ]
  },
  {
   "cell_type": "code",
   "execution_count": 21,
   "id": "4b373afc",
   "metadata": {},
   "outputs": [
    {
     "data": {
      "image/png": "[encoded data removed]",
      "text/plain": [
       "<Figure size 800x500 with 1 Axes>"
      ]
     },
     "metadata": {},
     "output_type": "display_data"
    },
    {
     "data": {
      "image/png": "[encoded data removed]",
      "text/plain": [
       "<Figure size 800x500 with 1 Axes>"
      ]
     },
     "metadata": {},
     "output_type": "display_data"
    },
    {
     "data": {
      "image/png": "[encoded data removed]",
      "text/plain": [
       "<Figure size 800x500 with 1 Axes>"
      ]
     },
     "metadata": {},
     "output_type": "display_data"
    },
    {
     "data": {
      "image/png": "[encoded data removed]",
      "text/plain": [
       "<Figure size 800x500 with 1 Axes>"
      ]
     },
     "metadata": {},
     "output_type": "display_data"
    }
   ],
   "source": [
    "for column in categorical_columns:\n",
    "    plt.figure(figsize=(8, 5))\n",
    "    sns.countplot(x=column, hue='claim', data=df_train)\n",
    "    plt.title(f'{column} vs. claim')\n",
    "    plt.show()"
   ]
  },
  {
   "cell_type": "code",
   "execution_count": 22,
   "id": "906ceeda",
   "metadata": {},
   "outputs": [
    {
     "data": {
      "image/png": "[encoded data removed]",
      "text/plain": [
       "<Figure size 800x500 with 1 Axes>"
      ]
     },
     "metadata": {},
     "output_type": "display_data"
    },
    {
     "data": {
      "image/png": "[encoded data removed]",
      "text/plain": [
       "<Figure size 800x500 with 1 Axes>"
      ]
     },
     "metadata": {},
     "output_type": "display_data"
    },
    {
     "data": {
      "image/png": "[encoded data removed]",
      "text/plain": [
       "<Figure size 800x500 with 1 Axes>"
      ]
     },
     "metadata": {},
     "output_type": "display_data"
    },
    {
     "data": {
      "image/png": "[encoded data removed]",
      "text/plain": [
       "<Figure size 800x500 with 1 Axes>"
      ]
     },
     "metadata": {},
     "output_type": "display_data"
    },
    {
     "data": {
      "image/png": "[encoded data removed]",
      "text/plain": [
       "<Figure size 800x500 with 1 Axes>"
      ]
     },
     "metadata": {},
     "output_type": "display_data"
    },
    {
     "data": {
      "image/png": "[encoded data removed]",
      "text/plain": [
       "<Figure size 800x500 with 1 Axes>"
      ]
     },
     "metadata": {},
     "output_type": "display_data"
    }
   ],
   "source": [
    "for column in numerical_columns:\n",
    "    plt.figure(figsize=(8, 5))\n",
    "    sns.boxplot(x='claim', y=column, data=df_train)\n",
    "    plt.title(f'{column} vs. claim')\n",
    "    plt.show()"
   ]
  },
  {
   "cell_type": "markdown",
   "id": "715d83e7",
   "metadata": {},
   "source": [
    "## Feature Selection\n",
    "\n",
    "Correlation is often used in machine learning to identify multicollinearity, which is when two or more predictor variables are highly correlated with each other. Multicollinearity can impact the accuracy of predictive models and thus building_fenced was dropped since it was highy correlated with settlement."
   ]
  },
  {
   "cell_type": "code",
   "execution_count": 23,
   "id": "d0e6e85c",
   "metadata": {},
   "outputs": [
    {
     "data": {
      "image/png": "[encoded data removed]",
      "text/plain": [
       "<Figure size 1500x800 with 2 Axes>"
      ]
     },
     "metadata": {},
     "output_type": "display_data"
    }
   ],
   "source": [
    "plt.figure(figsize=(15, 8))\n",
    "\n",
    "mask = np.triu(np.ones_like(df_train.corr(), dtype=bool))\n",
    "heatmap = sns.heatmap(df_train.corr().round(3),mask=mask, annot=True)\n",
    "heatmap.set_title('Correlation Heatmap', fontdict={'fontsize':12}, pad=12);\n",
    "\n",
    "plt.show()"
   ]
  },
  {
   "cell_type": "code",
   "execution_count": 24,
   "id": "cbd5d819",
   "metadata": {},
   "outputs": [],
   "source": [
    "# Dropping building_fenced since it is highly correlated with settlement\n",
    "\n",
    "del df_train['building_fenced']\n",
    "\n",
    "# Dropping the geo_code feature\n",
    "\n",
    "del df_train['geo_code']"
   ]
  },
  {
   "cell_type": "markdown",
   "id": "b50b122a",
   "metadata": {},
   "source": [
    "### Model Building\n",
    "\n",
    "* In this section, the testing dataset was loaded which contains 3069 records and 13 features.\n",
    "* Since the training dataset did not have the target variable, the training dataset was further split into a smaller training set (X_train, y_train) and a validation set (X_val, y_val).\n",
    "* The model is thus trained on X_train and y_train and evaluate its performance on the validation set (X_val, y_val).\n",
    "* The model was built using SVM, KNN, Naive Bayes, and Linear Regression alogorithms.\n",
    "* Evaluating the model using SVM Alogirthm on the validation dataset resulted into a score of 0.78, and an AUC score of 0.58.\n",
    "* Evaluating the model using KNN Alogirthm when k = 3 on the validation dataset resulted into a score of 0.73, and an AUC score of 0.60.\n",
    "* Evaluating the model using KNN Alogirthm when k = 5 on the validation dataset resulted into a score of 0.74, and an AUC score of 0.61.\n",
    "* Evaluating the model using Naive Bayes Alogirthm on the validation dataset resulted into a score of 0.70, and an AUC score of 0.67."
   ]
  },
  {
   "cell_type": "code",
   "execution_count": 26,
   "id": "c651e5f4",
   "metadata": {},
   "outputs": [],
   "source": [
    "X_train = df_train.drop('claim', axis=1)\n",
    "y_train = df_train['claim']"
   ]
  },
  {
   "cell_type": "markdown",
   "id": "43932b3d",
   "metadata": {},
   "source": [
    "#### Support Vector Machine"
   ]
  },
  {
   "cell_type": "code",
   "execution_count": 27,
   "id": "a93fe9ff",
   "metadata": {},
   "outputs": [],
   "source": [
    "from sklearn.model_selection import train_test_split\n",
    "\n",
    "X_train, X_val, y_train, y_val = train_test_split(X_train, y_train, test_size=0.2, random_state=42)"
   ]
  },
  {
   "cell_type": "code",
   "execution_count": 28,
   "id": "f0270dc3",
   "metadata": {},
   "outputs": [],
   "source": [
    "from sklearn.svm import SVC\n",
    "\n",
    "model = SVC(probability=True)"
   ]
  },
  {
   "cell_type": "code",
   "execution_count": 29,
   "id": "30a012fd",
   "metadata": {},
   "outputs": [],
   "source": [
    "# Dropping the customer_id column\n",
    "\n",
    "X_train = X_train.drop('customer_id', axis=1)\n",
    "X_val = X_val.drop('customer_id', axis=1)"
   ]
  },
  {
   "cell_type": "code",
   "execution_count": 30,
   "id": "32fc3afb",
   "metadata": {
    "scrolled": true
   },
   "outputs": [
    {
     "data": {
      "text/plain": [
       "SVC(probability=True)"
      ]
     },
     "execution_count": 30,
     "metadata": {},
     "output_type": "execute_result"
    }
   ],
   "source": [
    "model.fit(X_train, y_train)"
   ]
  },
  {
   "cell_type": "code",
   "execution_count": 31,
   "id": "973220ad",
   "metadata": {},
   "outputs": [
    {
     "data": {
      "text/html": [
       "<div>\n",
       "<style scoped>\n",
       "    .dataframe tbody tr th:only-of-type {\n",
       "        vertical-align: middle;\n",
       "    }\n",
       "\n",
       "    .dataframe tbody tr th {\n",
       "        vertical-align: top;\n",
       "    }\n",
       "\n",
       "    .dataframe thead th {\n",
       "        text-align: right;\n",
       "    }\n",
       "</style>\n",
       "<table border=\"1\" class=\"dataframe\">\n",
       "  <thead>\n",
       "    <tr style=\"text-align: right;\">\n",
       "      <th></th>\n",
       "      <th>yearofobservation</th>\n",
       "      <th>insured_period</th>\n",
       "      <th>residential</th>\n",
       "      <th>building_painted</th>\n",
       "      <th>garden</th>\n",
       "      <th>settlement</th>\n",
       "      <th>building_dimension</th>\n",
       "      <th>building_type</th>\n",
       "      <th>date_of_occupancy</th>\n",
       "      <th>numberofwindows</th>\n",
       "    </tr>\n",
       "  </thead>\n",
       "  <tbody>\n",
       "    <tr>\n",
       "      <th>5266</th>\n",
       "      <td>2016</td>\n",
       "      <td>0.997268</td>\n",
       "      <td>1</td>\n",
       "      <td>1</td>\n",
       "      <td>1</td>\n",
       "      <td>0</td>\n",
       "      <td>850.0</td>\n",
       "      <td>4</td>\n",
       "      <td>1960.0</td>\n",
       "      <td>4</td>\n",
       "    </tr>\n",
       "    <tr>\n",
       "      <th>5441</th>\n",
       "      <td>2015</td>\n",
       "      <td>1.000000</td>\n",
       "      <td>0</td>\n",
       "      <td>1</td>\n",
       "      <td>1</td>\n",
       "      <td>0</td>\n",
       "      <td>2135.0</td>\n",
       "      <td>2</td>\n",
       "      <td>1960.0</td>\n",
       "      <td>4</td>\n",
       "    </tr>\n",
       "    <tr>\n",
       "      <th>7025</th>\n",
       "      <td>2013</td>\n",
       "      <td>1.000000</td>\n",
       "      <td>0</td>\n",
       "      <td>0</td>\n",
       "      <td>0</td>\n",
       "      <td>1</td>\n",
       "      <td>2700.0</td>\n",
       "      <td>3</td>\n",
       "      <td>1970.0</td>\n",
       "      <td>6</td>\n",
       "    </tr>\n",
       "    <tr>\n",
       "      <th>7130</th>\n",
       "      <td>2014</td>\n",
       "      <td>1.000000</td>\n",
       "      <td>1</td>\n",
       "      <td>0</td>\n",
       "      <td>1</td>\n",
       "      <td>0</td>\n",
       "      <td>1083.0</td>\n",
       "      <td>1</td>\n",
       "      <td>1700.0</td>\n",
       "      <td>4</td>\n",
       "    </tr>\n",
       "    <tr>\n",
       "      <th>4454</th>\n",
       "      <td>2013</td>\n",
       "      <td>1.000000</td>\n",
       "      <td>0</td>\n",
       "      <td>0</td>\n",
       "      <td>0</td>\n",
       "      <td>1</td>\n",
       "      <td>1080.0</td>\n",
       "      <td>2</td>\n",
       "      <td>1960.0</td>\n",
       "      <td>5</td>\n",
       "    </tr>\n",
       "  </tbody>\n",
       "</table>\n",
       "</div>"
      ],
      "text/plain": [
       "      yearofobservation  insured_period  residential  building_painted  \\\n",
       "5266               2016        0.997268            1                 1   \n",
       "5441               2015        1.000000            0                 1   \n",
       "7025               2013        1.000000            0                 0   \n",
       "7130               2014        1.000000            1                 0   \n",
       "4454               2013        1.000000            0                 0   \n",
       "\n",
       "      garden  settlement  building_dimension  building_type  \\\n",
       "5266       1           0               850.0              4   \n",
       "5441       1           0              2135.0              2   \n",
       "7025       0           1              2700.0              3   \n",
       "7130       1           0              1083.0              1   \n",
       "4454       0           1              1080.0              2   \n",
       "\n",
       "      date_of_occupancy  numberofwindows  \n",
       "5266             1960.0                4  \n",
       "5441             1960.0                4  \n",
       "7025             1970.0                6  \n",
       "7130             1700.0                4  \n",
       "4454             1960.0                5  "
      ]
     },
     "execution_count": 31,
     "metadata": {},
     "output_type": "execute_result"
    }
   ],
   "source": [
    "X_train.iloc[:5]"
   ]
  },
  {
   "cell_type": "code",
   "execution_count": 32,
   "id": "4be39194",
   "metadata": {},
   "outputs": [
    {
     "data": {
      "text/plain": [
       "0.7730446927374302"
      ]
     },
     "execution_count": 32,
     "metadata": {},
     "output_type": "execute_result"
    }
   ],
   "source": [
    "model.score(X_val, y_val)"
   ]
  },
  {
   "cell_type": "markdown",
   "id": "48fe0a37",
   "metadata": {},
   "source": [
    "#### K-Nearest Neighbor(KNN) Algorithm"
   ]
  },
  {
   "cell_type": "code",
   "execution_count": 33,
   "id": "29cfeedf",
   "metadata": {},
   "outputs": [],
   "source": [
    "from sklearn.neighbors import KNeighborsClassifier\n",
    "knn = KNeighborsClassifier(n_neighbors = 3)"
   ]
  },
  {
   "cell_type": "code",
   "execution_count": 34,
   "id": "88c5a055",
   "metadata": {},
   "outputs": [
    {
     "data": {
      "text/plain": [
       "KNeighborsClassifier(n_neighbors=3)"
      ]
     },
     "execution_count": 34,
     "metadata": {},
     "output_type": "execute_result"
    }
   ],
   "source": [
    "knn.fit(X_train, y_train)"
   ]
  },
  {
   "cell_type": "code",
   "execution_count": 35,
   "id": "31c00465",
   "metadata": {},
   "outputs": [
    {
     "name": "stderr",
     "output_type": "stream",
     "text": [
      "C:\\Users\\HP\\anaconda3\\lib\\site-packages\\sklearn\\neighbors\\_classification.py:228: FutureWarning: Unlike other reduction functions (e.g. `skew`, `kurtosis`), the default behavior of `mode` typically preserves the axis it acts along. In SciPy 1.11.0, this behavior will change: the default value of `keepdims` will become False, the `axis` over which the statistic is taken will be eliminated, and the value None will no longer be accepted. Set `keepdims` to True or False to avoid this warning.\n",
      "  mode, _ = stats.mode(_y[neigh_ind, k], axis=1)\n"
     ]
    },
    {
     "data": {
      "text/plain": [
       "0.7311452513966481"
      ]
     },
     "execution_count": 35,
     "metadata": {},
     "output_type": "execute_result"
    }
   ],
   "source": [
    "knn.score(X_val, y_val)"
   ]
  },
  {
   "cell_type": "markdown",
   "id": "d2dae070",
   "metadata": {},
   "source": [
    "#### Using k = 5"
   ]
  },
  {
   "cell_type": "code",
   "execution_count": 36,
   "id": "263e35df",
   "metadata": {},
   "outputs": [],
   "source": [
    "knn_test = KNeighborsClassifier(n_neighbors = 5)"
   ]
  },
  {
   "cell_type": "code",
   "execution_count": 37,
   "id": "8a483d2a",
   "metadata": {},
   "outputs": [
    {
     "data": {
      "text/plain": [
       "KNeighborsClassifier()"
      ]
     },
     "execution_count": 37,
     "metadata": {},
     "output_type": "execute_result"
    }
   ],
   "source": [
    "knn_test.fit(X_train, y_train)"
   ]
  },
  {
   "cell_type": "code",
   "execution_count": 38,
   "id": "6cb2dfe9",
   "metadata": {},
   "outputs": [
    {
     "name": "stderr",
     "output_type": "stream",
     "text": [
      "C:\\Users\\HP\\anaconda3\\lib\\site-packages\\sklearn\\neighbors\\_classification.py:228: FutureWarning: Unlike other reduction functions (e.g. `skew`, `kurtosis`), the default behavior of `mode` typically preserves the axis it acts along. In SciPy 1.11.0, this behavior will change: the default value of `keepdims` will become False, the `axis` over which the statistic is taken will be eliminated, and the value None will no longer be accepted. Set `keepdims` to True or False to avoid this warning.\n",
      "  mode, _ = stats.mode(_y[neigh_ind, k], axis=1)\n"
     ]
    },
    {
     "data": {
      "text/plain": [
       "0.7458100558659218"
      ]
     },
     "execution_count": 38,
     "metadata": {},
     "output_type": "execute_result"
    }
   ],
   "source": [
    "knn_test.score(X_val, y_val)"
   ]
  },
  {
   "cell_type": "code",
   "execution_count": null,
   "id": "8b862061",
   "metadata": {},
   "outputs": [],
   "source": []
  },
  {
   "cell_type": "code",
   "execution_count": 181,
   "id": "ac368bc0",
   "metadata": {},
   "outputs": [
    {
     "name": "stderr",
     "output_type": "stream",
     "text": [
      "C:\\Users\\HP\\anaconda3\\lib\\site-packages\\sklearn\\neighbors\\_classification.py:228: FutureWarning: Unlike other reduction functions (e.g. `skew`, `kurtosis`), the default behavior of `mode` typically preserves the axis it acts along. In SciPy 1.11.0, this behavior will change: the default value of `keepdims` will become False, the `axis` over which the statistic is taken will be eliminated, and the value None will no longer be accepted. Set `keepdims` to True or False to avoid this warning.\n",
      "  mode, _ = stats.mode(_y[neigh_ind, k], axis=1)\n"
     ]
    },
    {
     "data": {
      "text/plain": [
       "0.7660614525139665"
      ]
     },
     "execution_count": 181,
     "metadata": {},
     "output_type": "execute_result"
    }
   ],
   "source": [
    "knn_test = KNeighborsClassifier(n_neighbors = 10)\n",
    "knn_test.fit(X_train, y_train)\n",
    "knn_test.score(X_val, y_val)"
   ]
  },
  {
   "cell_type": "markdown",
   "id": "9ee10980",
   "metadata": {},
   "source": [
    "#### 3) Naye Bayes Algorithm"
   ]
  },
  {
   "cell_type": "code",
   "execution_count": 39,
   "id": "4f0d3b94",
   "metadata": {},
   "outputs": [],
   "source": [
    "from sklearn.naive_bayes import MultinomialNB"
   ]
  },
  {
   "cell_type": "code",
   "execution_count": 40,
   "id": "0802cd5b",
   "metadata": {},
   "outputs": [
    {
     "data": {
      "text/plain": [
       "MultinomialNB()"
      ]
     },
     "execution_count": 40,
     "metadata": {},
     "output_type": "execute_result"
    }
   ],
   "source": [
    "nb_model = MultinomialNB()\n",
    "nb_model.fit(X_train, y_train)"
   ]
  },
  {
   "cell_type": "code",
   "execution_count": 41,
   "id": "a0f45a12",
   "metadata": {},
   "outputs": [
    {
     "data": {
      "text/plain": [
       "0.7046089385474861"
      ]
     },
     "execution_count": 41,
     "metadata": {},
     "output_type": "execute_result"
    }
   ],
   "source": [
    "nb_model.score(X_val, y_val)"
   ]
  },
  {
   "cell_type": "markdown",
   "id": "2322be02",
   "metadata": {},
   "source": [
    "#### 4) Linear Regression Algorithm"
   ]
  },
  {
   "cell_type": "code",
   "execution_count": 42,
   "id": "b7719bee",
   "metadata": {},
   "outputs": [],
   "source": [
    "from sklearn import linear_model"
   ]
  },
  {
   "cell_type": "code",
   "execution_count": 43,
   "id": "9c572bdf",
   "metadata": {},
   "outputs": [],
   "source": [
    "reg = linear_model.LinearRegression()"
   ]
  },
  {
   "cell_type": "code",
   "execution_count": 44,
   "id": "ba0d1093",
   "metadata": {},
   "outputs": [
    {
     "data": {
      "text/plain": [
       "LinearRegression()"
      ]
     },
     "execution_count": 44,
     "metadata": {},
     "output_type": "execute_result"
    }
   ],
   "source": [
    "reg.fit(X_train, y_train)"
   ]
  },
  {
   "cell_type": "code",
   "execution_count": 62,
   "id": "2f0e1376",
   "metadata": {},
   "outputs": [
    {
     "data": {
      "text/plain": [
       "0.11435808662560931"
      ]
     },
     "execution_count": 62,
     "metadata": {},
     "output_type": "execute_result"
    }
   ],
   "source": [
    "reg.score(X_val, y_val)"
   ]
  },
  {
   "cell_type": "markdown",
   "id": "d40abc3f",
   "metadata": {},
   "source": [
    "### Model Evaluation"
   ]
  },
  {
   "cell_type": "code",
   "execution_count": 46,
   "id": "5e0c8040",
   "metadata": {},
   "outputs": [],
   "source": [
    "from sklearn.metrics import roc_auc_score\n",
    "\n",
    "from sklearn import metrics\n",
    "\n",
    "from sklearn.metrics import roc_curve"
   ]
  },
  {
   "cell_type": "markdown",
   "id": "f3e9b033",
   "metadata": {},
   "source": [
    "#### 1) Support Vector Algorithm"
   ]
  },
  {
   "cell_type": "code",
   "execution_count": 47,
   "id": "de055fd5",
   "metadata": {},
   "outputs": [],
   "source": [
    "y_pred_prob = model.predict_proba(X_val)[:, 1]"
   ]
  },
  {
   "cell_type": "code",
   "execution_count": 48,
   "id": "4daef3d5",
   "metadata": {},
   "outputs": [
    {
     "name": "stdout",
     "output_type": "stream",
     "text": [
      "AUC Score: 0.5788886707459397\n"
     ]
    }
   ],
   "source": [
    "auc_score_svm = roc_auc_score(y_val, y_pred_prob)\n",
    "print(\"AUC Score:\", auc_score_svm)"
   ]
  },
  {
   "cell_type": "code",
   "execution_count": 49,
   "id": "49c7488e",
   "metadata": {},
   "outputs": [
    {
     "name": "stdout",
     "output_type": "stream",
     "text": [
      "[[1078   20]\n",
      " [ 305   29]]\n"
     ]
    }
   ],
   "source": [
    "# Confusion matrix\n",
    "\n",
    "# Assuming y_pred_prob is a column of probability scores\n",
    "y_pred = (y_pred_prob >= 0.5).astype(int)\n",
    "\n",
    "conf_matrix = metrics.confusion_matrix(y_val, y_pred)\n",
    "\n",
    "print(conf_matrix)"
   ]
  },
  {
   "cell_type": "code",
   "execution_count": 50,
   "id": "dac9122c",
   "metadata": {},
   "outputs": [
    {
     "data": {
      "image/png": "[encoded data removed]",
      "text/plain": [
       "<Figure size 800x600 with 1 Axes>"
      ]
     },
     "metadata": {},
     "output_type": "display_data"
    }
   ],
   "source": [
    "fpr, tpr, thresholds = roc_curve(y_val, y_pred_prob)\n",
    "\n",
    "plt.figure(figsize=(8, 6))\n",
    "plt.plot(fpr, tpr, label=f'AUC = {auc_score_svm:.2f}')\n",
    "plt.plot([0, 1], [0, 1], 'k--')\n",
    "plt.xlabel('False Positive Rate')\n",
    "plt.ylabel('True Positive Rate')\n",
    "plt.title('Receiver Operating Characteristic (ROC) Curve-Linear')\n",
    "plt.legend(loc='lower right')\n",
    "plt.show()"
   ]
  },
  {
   "cell_type": "markdown",
   "id": "38aa0a36",
   "metadata": {},
   "source": [
    "#### 2) KNN Algorithm"
   ]
  },
  {
   "cell_type": "code",
   "execution_count": 51,
   "id": "d1a9aa6f",
   "metadata": {},
   "outputs": [],
   "source": [
    "y_pred_prob_knn = knn.predict_proba(X_val)[:, 1]"
   ]
  },
  {
   "cell_type": "code",
   "execution_count": 52,
   "id": "9734d77a",
   "metadata": {},
   "outputs": [
    {
     "name": "stdout",
     "output_type": "stream",
     "text": [
      "AUC Score: 0.6047617878996105\n"
     ]
    }
   ],
   "source": [
    "auc_score_knn = roc_auc_score(y_val, y_pred_prob_knn)\n",
    "print(\"AUC Score:\", auc_score_knn)"
   ]
  },
  {
   "cell_type": "code",
   "execution_count": 53,
   "id": "e0c45252",
   "metadata": {},
   "outputs": [
    {
     "name": "stdout",
     "output_type": "stream",
     "text": [
      "[[961 137]\n",
      " [248  86]]\n"
     ]
    }
   ],
   "source": [
    "# Confusion matrix\n",
    "\n",
    "# Assuming y_pred_prob is a column of probability scores\n",
    "y_pred_knn = (y_pred_prob_knn >= 0.5).astype(int)\n",
    "\n",
    "conf_matrix = metrics.confusion_matrix(y_val, y_pred_knn)\n",
    "\n",
    "print(conf_matrix)"
   ]
  },
  {
   "cell_type": "code",
   "execution_count": 54,
   "id": "7017dee8",
   "metadata": {},
   "outputs": [
    {
     "data": {
      "image/png": "[encoded data removed]",
      "text/plain": [
       "<Figure size 800x600 with 1 Axes>"
      ]
     },
     "metadata": {},
     "output_type": "display_data"
    }
   ],
   "source": [
    "fpr, tpr, thresholds = roc_curve(y_val, y_pred_prob_knn)\n",
    "\n",
    "plt.figure(figsize=(8, 6))\n",
    "plt.plot(fpr, tpr, label=f'AUC = {auc_score_knn:.2f}')\n",
    "plt.plot([0, 1], [0, 1], 'k--')\n",
    "plt.xlabel('False Positive Rate')\n",
    "plt.ylabel('True Positive Rate')\n",
    "plt.title('Receiver Operating Characteristic (ROC) Curve-KNN')\n",
    "plt.legend(loc='lower right')\n",
    "plt.show()"
   ]
  },
  {
   "cell_type": "markdown",
   "id": "6b9c236b",
   "metadata": {},
   "source": [
    "#### Evaliuating KNN Model when k=5"
   ]
  },
  {
   "cell_type": "code",
   "execution_count": 55,
   "id": "7a897bd3",
   "metadata": {},
   "outputs": [],
   "source": [
    "y_pred_prob_knn_test = knn_test.predict_proba(X_val)[:, 1]"
   ]
  },
  {
   "cell_type": "code",
   "execution_count": 56,
   "id": "c3c0549a",
   "metadata": {},
   "outputs": [
    {
     "name": "stdout",
     "output_type": "stream",
     "text": [
      "AUC Score: 0.6163369981348779\n"
     ]
    }
   ],
   "source": [
    "auc_score_knn_test = roc_auc_score(y_val, y_pred_prob_knn_test)\n",
    "print(\"AUC Score:\", auc_score_knn_test)"
   ]
  },
  {
   "cell_type": "code",
   "execution_count": 57,
   "id": "ffc38104",
   "metadata": {},
   "outputs": [
    {
     "name": "stdout",
     "output_type": "stream",
     "text": [
      "[[992 106]\n",
      " [258  76]]\n"
     ]
    }
   ],
   "source": [
    "# Confusion matrix\n",
    "\n",
    "# Assuming y_pred_prob is a column of probability scores\n",
    "y_pred_knn_test = (y_pred_prob_knn_test >= 0.5).astype(int)\n",
    "\n",
    "conf_matrix = metrics.confusion_matrix(y_val, y_pred_knn_test)\n",
    "\n",
    "print(conf_matrix)"
   ]
  },
  {
   "cell_type": "markdown",
   "id": "dfece3fa",
   "metadata": {},
   "source": [
    "#### 3) Naive Bayes"
   ]
  },
  {
   "cell_type": "code",
   "execution_count": 58,
   "id": "2e24dd9d",
   "metadata": {},
   "outputs": [],
   "source": [
    "y_pred_prob_nb = nb_model.predict_proba(X_val)[:, 1]"
   ]
  },
  {
   "cell_type": "code",
   "execution_count": 59,
   "id": "8241d0d3",
   "metadata": {},
   "outputs": [
    {
     "name": "stdout",
     "output_type": "stream",
     "text": [
      "AUC Score: 0.6689653479925396\n"
     ]
    }
   ],
   "source": [
    "auc_score_nb = roc_auc_score(y_val, y_pred_prob_nb)\n",
    "print(\"AUC Score:\", auc_score_nb)"
   ]
  },
  {
   "cell_type": "code",
   "execution_count": 60,
   "id": "86511337",
   "metadata": {},
   "outputs": [
    {
     "name": "stdout",
     "output_type": "stream",
     "text": [
      "[[858 240]\n",
      " [183 151]]\n"
     ]
    }
   ],
   "source": [
    "# Confusion matrix\n",
    "\n",
    "# Assuming y_pred_prob is a column of probability scores\n",
    "y_pred_nb = (y_pred_prob_nb >= 0.5).astype(int)\n",
    "\n",
    "conf_matrix = metrics.confusion_matrix(y_val, y_pred_nb)\n",
    "\n",
    "print(conf_matrix)"
   ]
  },
  {
   "cell_type": "code",
   "execution_count": 61,
   "id": "8d793622",
   "metadata": {},
   "outputs": [
    {
     "data": {
      "image/png": "[encoded data removed]",
      "text/plain": [
       "<Figure size 800x600 with 1 Axes>"
      ]
     },
     "metadata": {},
     "output_type": "display_data"
    }
   ],
   "source": [
    "fpr, tpr, thresholds = roc_curve(y_val, y_pred_prob_nb)\n",
    "\n",
    "plt.figure(figsize=(8, 6))\n",
    "plt.plot(fpr, tpr, label=f'AUC = {auc_score_nb:.2f}')\n",
    "plt.plot([0, 1], [0, 1], 'k--')\n",
    "plt.xlabel('False Positive Rate')\n",
    "plt.ylabel('True Positive Rate')\n",
    "plt.title('Receiver Operating Characteristic (ROC) Curve-KNN')\n",
    "plt.legend(loc='lower right')\n",
    "plt.show()"
   ]
  },
  {
   "cell_type": "markdown",
   "id": "8c1b3bf2",
   "metadata": {},
   "source": [
    "### Making predictions to the test dataset\n",
    "\n",
    "* The dataset was first transformed so as to match with the training dataset, i.e change the feature variables to lowercase, handle missing values, delete the features that were deleted during training"
   ]
  },
  {
   "cell_type": "code",
   "execution_count": 301,
   "id": "8ed9f5f6",
   "metadata": {},
   "outputs": [
    {
     "data": {
      "text/html": [
       "<div>\n",
       "<style scoped>\n",
       "    .dataframe tbody tr th:only-of-type {\n",
       "        vertical-align: middle;\n",
       "    }\n",
       "\n",
       "    .dataframe tbody tr th {\n",
       "        vertical-align: top;\n",
       "    }\n",
       "\n",
       "    .dataframe thead th {\n",
       "        text-align: right;\n",
       "    }\n",
       "</style>\n",
       "<table border=\"1\" class=\"dataframe\">\n",
       "  <thead>\n",
       "    <tr style=\"text-align: right;\">\n",
       "      <th></th>\n",
       "      <th>Customer Id</th>\n",
       "      <th>YearOfObservation</th>\n",
       "      <th>Insured_Period</th>\n",
       "      <th>Residential</th>\n",
       "      <th>Building_Painted</th>\n",
       "      <th>Building_Fenced</th>\n",
       "      <th>Garden</th>\n",
       "      <th>Settlement</th>\n",
       "      <th>Building Dimension</th>\n",
       "      <th>Building_Type</th>\n",
       "      <th>Date_of_Occupancy</th>\n",
       "      <th>NumberOfWindows</th>\n",
       "      <th>Geo_Code</th>\n",
       "    </tr>\n",
       "  </thead>\n",
       "  <tbody>\n",
       "    <tr>\n",
       "      <th>0</th>\n",
       "      <td>H11920</td>\n",
       "      <td>2013</td>\n",
       "      <td>1.000000</td>\n",
       "      <td>0</td>\n",
       "      <td>V</td>\n",
       "      <td>N</td>\n",
       "      <td>O</td>\n",
       "      <td>R</td>\n",
       "      <td>300.0</td>\n",
       "      <td>1</td>\n",
       "      <td>1960.0</td>\n",
       "      <td>3</td>\n",
       "      <td>3310</td>\n",
       "    </tr>\n",
       "    <tr>\n",
       "      <th>1</th>\n",
       "      <td>H11921</td>\n",
       "      <td>2016</td>\n",
       "      <td>0.997268</td>\n",
       "      <td>0</td>\n",
       "      <td>V</td>\n",
       "      <td>N</td>\n",
       "      <td>O</td>\n",
       "      <td>R</td>\n",
       "      <td>300.0</td>\n",
       "      <td>1</td>\n",
       "      <td>1960.0</td>\n",
       "      <td>3</td>\n",
       "      <td>3310</td>\n",
       "    </tr>\n",
       "    <tr>\n",
       "      <th>2</th>\n",
       "      <td>H9805</td>\n",
       "      <td>2013</td>\n",
       "      <td>0.369863</td>\n",
       "      <td>0</td>\n",
       "      <td>V</td>\n",
       "      <td>V</td>\n",
       "      <td>V</td>\n",
       "      <td>U</td>\n",
       "      <td>790.0</td>\n",
       "      <td>1</td>\n",
       "      <td>1960.0</td>\n",
       "      <td>.</td>\n",
       "      <td>3310</td>\n",
       "    </tr>\n",
       "    <tr>\n",
       "      <th>3</th>\n",
       "      <td>H7493</td>\n",
       "      <td>2014</td>\n",
       "      <td>1.000000</td>\n",
       "      <td>0</td>\n",
       "      <td>V</td>\n",
       "      <td>N</td>\n",
       "      <td>O</td>\n",
       "      <td>R</td>\n",
       "      <td>1405.0</td>\n",
       "      <td>1</td>\n",
       "      <td>2004.0</td>\n",
       "      <td>3</td>\n",
       "      <td>3321</td>\n",
       "    </tr>\n",
       "    <tr>\n",
       "      <th>4</th>\n",
       "      <td>H7494</td>\n",
       "      <td>2016</td>\n",
       "      <td>1.000000</td>\n",
       "      <td>0</td>\n",
       "      <td>V</td>\n",
       "      <td>N</td>\n",
       "      <td>O</td>\n",
       "      <td>R</td>\n",
       "      <td>1405.0</td>\n",
       "      <td>1</td>\n",
       "      <td>2004.0</td>\n",
       "      <td>3</td>\n",
       "      <td>3321</td>\n",
       "    </tr>\n",
       "    <tr>\n",
       "      <th>...</th>\n",
       "      <td>...</td>\n",
       "      <td>...</td>\n",
       "      <td>...</td>\n",
       "      <td>...</td>\n",
       "      <td>...</td>\n",
       "      <td>...</td>\n",
       "      <td>...</td>\n",
       "      <td>...</td>\n",
       "      <td>...</td>\n",
       "      <td>...</td>\n",
       "      <td>...</td>\n",
       "      <td>...</td>\n",
       "      <td>...</td>\n",
       "    </tr>\n",
       "    <tr>\n",
       "      <th>3064</th>\n",
       "      <td>H11583</td>\n",
       "      <td>2015</td>\n",
       "      <td>1.000000</td>\n",
       "      <td>0</td>\n",
       "      <td>V</td>\n",
       "      <td>V</td>\n",
       "      <td>V</td>\n",
       "      <td>U</td>\n",
       "      <td>NaN</td>\n",
       "      <td>4</td>\n",
       "      <td>1900.0</td>\n",
       "      <td>.</td>\n",
       "      <td>NaN</td>\n",
       "    </tr>\n",
       "    <tr>\n",
       "      <th>3065</th>\n",
       "      <td>H11720</td>\n",
       "      <td>2012</td>\n",
       "      <td>1.000000</td>\n",
       "      <td>0</td>\n",
       "      <td>V</td>\n",
       "      <td>V</td>\n",
       "      <td>V</td>\n",
       "      <td>U</td>\n",
       "      <td>NaN</td>\n",
       "      <td>2</td>\n",
       "      <td>1948.0</td>\n",
       "      <td>.</td>\n",
       "      <td>NaN</td>\n",
       "    </tr>\n",
       "    <tr>\n",
       "      <th>3066</th>\n",
       "      <td>H11721</td>\n",
       "      <td>2012</td>\n",
       "      <td>1.000000</td>\n",
       "      <td>0</td>\n",
       "      <td>V</td>\n",
       "      <td>V</td>\n",
       "      <td>V</td>\n",
       "      <td>U</td>\n",
       "      <td>NaN</td>\n",
       "      <td>2</td>\n",
       "      <td>1993.0</td>\n",
       "      <td>.</td>\n",
       "      <td>NaN</td>\n",
       "    </tr>\n",
       "    <tr>\n",
       "      <th>3067</th>\n",
       "      <td>H12408</td>\n",
       "      <td>2013</td>\n",
       "      <td>1.000000</td>\n",
       "      <td>0</td>\n",
       "      <td>V</td>\n",
       "      <td>V</td>\n",
       "      <td>V</td>\n",
       "      <td>U</td>\n",
       "      <td>NaN</td>\n",
       "      <td>1</td>\n",
       "      <td>1800.0</td>\n",
       "      <td>.</td>\n",
       "      <td>NaN</td>\n",
       "    </tr>\n",
       "    <tr>\n",
       "      <th>3068</th>\n",
       "      <td>H9021</td>\n",
       "      <td>2012</td>\n",
       "      <td>1.000000</td>\n",
       "      <td>0</td>\n",
       "      <td>V</td>\n",
       "      <td>V</td>\n",
       "      <td>V</td>\n",
       "      <td>U</td>\n",
       "      <td>NaN</td>\n",
       "      <td>2</td>\n",
       "      <td>1950.0</td>\n",
       "      <td>.</td>\n",
       "      <td>NaN</td>\n",
       "    </tr>\n",
       "  </tbody>\n",
       "</table>\n",
       "<p>3069 rows × 13 columns</p>\n",
       "</div>"
      ],
      "text/plain": [
       "     Customer Id  YearOfObservation  Insured_Period  Residential  \\\n",
       "0         H11920               2013        1.000000            0   \n",
       "1         H11921               2016        0.997268            0   \n",
       "2          H9805               2013        0.369863            0   \n",
       "3          H7493               2014        1.000000            0   \n",
       "4          H7494               2016        1.000000            0   \n",
       "...          ...                ...             ...          ...   \n",
       "3064      H11583               2015        1.000000            0   \n",
       "3065      H11720               2012        1.000000            0   \n",
       "3066      H11721               2012        1.000000            0   \n",
       "3067      H12408               2013        1.000000            0   \n",
       "3068       H9021               2012        1.000000            0   \n",
       "\n",
       "     Building_Painted Building_Fenced Garden Settlement  Building Dimension  \\\n",
       "0                   V               N      O          R               300.0   \n",
       "1                   V               N      O          R               300.0   \n",
       "2                   V               V      V          U               790.0   \n",
       "3                   V               N      O          R              1405.0   \n",
       "4                   V               N      O          R              1405.0   \n",
       "...               ...             ...    ...        ...                 ...   \n",
       "3064                V               V      V          U                 NaN   \n",
       "3065                V               V      V          U                 NaN   \n",
       "3066                V               V      V          U                 NaN   \n",
       "3067                V               V      V          U                 NaN   \n",
       "3068                V               V      V          U                 NaN   \n",
       "\n",
       "      Building_Type  Date_of_Occupancy NumberOfWindows Geo_Code  \n",
       "0                 1             1960.0               3     3310  \n",
       "1                 1             1960.0               3     3310  \n",
       "2                 1             1960.0               .     3310  \n",
       "3                 1             2004.0               3     3321  \n",
       "4                 1             2004.0               3     3321  \n",
       "...             ...                ...             ...      ...  \n",
       "3064              4             1900.0               .      NaN  \n",
       "3065              2             1948.0               .      NaN  \n",
       "3066              2             1993.0               .      NaN  \n",
       "3067              1             1800.0               .      NaN  \n",
       "3068              2             1950.0               .      NaN  \n",
       "\n",
       "[3069 rows x 13 columns]"
      ]
     },
     "execution_count": 301,
     "metadata": {},
     "output_type": "execute_result"
    }
   ],
   "source": [
    "# Loading the Testing Dataset\n",
    "\n",
    "df_test = pd.read_csv(\"C:/Users/HP/Zoomcamp/Datasets/test_data.csv\")\n",
    "df_test"
   ]
  },
  {
   "cell_type": "code",
   "execution_count": 302,
   "id": "79e919f0",
   "metadata": {},
   "outputs": [],
   "source": [
    "# Making columns uniform by changing all of them to lowercase\n",
    "\n",
    "df_test.columns = df_test.columns.str.lower().str.replace(' ', '_')\n",
    "\n",
    "String_columns = list(df_test.dtypes[df_test.dtypes == 'object'].index)\n",
    "\n",
    "for col in string_columns:\n",
    "    df_test[col] = df_test[col].str.lower().str.replace(' ', '_')"
   ]
  },
  {
   "cell_type": "code",
   "execution_count": 303,
   "id": "73972ed6",
   "metadata": {},
   "outputs": [
    {
     "data": {
      "text/html": [
       "<div>\n",
       "<style scoped>\n",
       "    .dataframe tbody tr th:only-of-type {\n",
       "        vertical-align: middle;\n",
       "    }\n",
       "\n",
       "    .dataframe tbody tr th {\n",
       "        vertical-align: top;\n",
       "    }\n",
       "\n",
       "    .dataframe thead th {\n",
       "        text-align: right;\n",
       "    }\n",
       "</style>\n",
       "<table border=\"1\" class=\"dataframe\">\n",
       "  <thead>\n",
       "    <tr style=\"text-align: right;\">\n",
       "      <th></th>\n",
       "      <th>0</th>\n",
       "      <th>1</th>\n",
       "      <th>2</th>\n",
       "      <th>3</th>\n",
       "      <th>4</th>\n",
       "    </tr>\n",
       "  </thead>\n",
       "  <tbody>\n",
       "    <tr>\n",
       "      <th>customer_id</th>\n",
       "      <td>h11920</td>\n",
       "      <td>h11921</td>\n",
       "      <td>h9805</td>\n",
       "      <td>h7493</td>\n",
       "      <td>h7494</td>\n",
       "    </tr>\n",
       "    <tr>\n",
       "      <th>yearofobservation</th>\n",
       "      <td>2013</td>\n",
       "      <td>2016</td>\n",
       "      <td>2013</td>\n",
       "      <td>2014</td>\n",
       "      <td>2016</td>\n",
       "    </tr>\n",
       "    <tr>\n",
       "      <th>insured_period</th>\n",
       "      <td>1.0</td>\n",
       "      <td>0.997268</td>\n",
       "      <td>0.369863</td>\n",
       "      <td>1.0</td>\n",
       "      <td>1.0</td>\n",
       "    </tr>\n",
       "    <tr>\n",
       "      <th>residential</th>\n",
       "      <td>0</td>\n",
       "      <td>0</td>\n",
       "      <td>0</td>\n",
       "      <td>0</td>\n",
       "      <td>0</td>\n",
       "    </tr>\n",
       "    <tr>\n",
       "      <th>building_painted</th>\n",
       "      <td>v</td>\n",
       "      <td>v</td>\n",
       "      <td>v</td>\n",
       "      <td>v</td>\n",
       "      <td>v</td>\n",
       "    </tr>\n",
       "    <tr>\n",
       "      <th>building_fenced</th>\n",
       "      <td>n</td>\n",
       "      <td>n</td>\n",
       "      <td>v</td>\n",
       "      <td>n</td>\n",
       "      <td>n</td>\n",
       "    </tr>\n",
       "    <tr>\n",
       "      <th>garden</th>\n",
       "      <td>o</td>\n",
       "      <td>o</td>\n",
       "      <td>v</td>\n",
       "      <td>o</td>\n",
       "      <td>o</td>\n",
       "    </tr>\n",
       "    <tr>\n",
       "      <th>settlement</th>\n",
       "      <td>r</td>\n",
       "      <td>r</td>\n",
       "      <td>u</td>\n",
       "      <td>r</td>\n",
       "      <td>r</td>\n",
       "    </tr>\n",
       "    <tr>\n",
       "      <th>building_dimension</th>\n",
       "      <td>300.0</td>\n",
       "      <td>300.0</td>\n",
       "      <td>790.0</td>\n",
       "      <td>1405.0</td>\n",
       "      <td>1405.0</td>\n",
       "    </tr>\n",
       "    <tr>\n",
       "      <th>building_type</th>\n",
       "      <td>1</td>\n",
       "      <td>1</td>\n",
       "      <td>1</td>\n",
       "      <td>1</td>\n",
       "      <td>1</td>\n",
       "    </tr>\n",
       "    <tr>\n",
       "      <th>date_of_occupancy</th>\n",
       "      <td>1960.0</td>\n",
       "      <td>1960.0</td>\n",
       "      <td>1960.0</td>\n",
       "      <td>2004.0</td>\n",
       "      <td>2004.0</td>\n",
       "    </tr>\n",
       "    <tr>\n",
       "      <th>numberofwindows</th>\n",
       "      <td>3</td>\n",
       "      <td>3</td>\n",
       "      <td>___.</td>\n",
       "      <td>3</td>\n",
       "      <td>3</td>\n",
       "    </tr>\n",
       "    <tr>\n",
       "      <th>geo_code</th>\n",
       "      <td>3310</td>\n",
       "      <td>3310</td>\n",
       "      <td>3310</td>\n",
       "      <td>3321</td>\n",
       "      <td>3321</td>\n",
       "    </tr>\n",
       "  </tbody>\n",
       "</table>\n",
       "</div>"
      ],
      "text/plain": [
       "                         0         1         2       3       4\n",
       "customer_id         h11920    h11921     h9805   h7493   h7494\n",
       "yearofobservation     2013      2016      2013    2014    2016\n",
       "insured_period         1.0  0.997268  0.369863     1.0     1.0\n",
       "residential              0         0         0       0       0\n",
       "building_painted         v         v         v       v       v\n",
       "building_fenced          n         n         v       n       n\n",
       "garden                   o         o         v       o       o\n",
       "settlement               r         r         u       r       r\n",
       "building_dimension   300.0     300.0     790.0  1405.0  1405.0\n",
       "building_type            1         1         1       1       1\n",
       "date_of_occupancy   1960.0    1960.0    1960.0  2004.0  2004.0\n",
       "numberofwindows          3         3      ___.       3       3\n",
       "geo_code              3310      3310      3310    3321    3321"
      ]
     },
     "execution_count": 303,
     "metadata": {},
     "output_type": "execute_result"
    }
   ],
   "source": [
    "df_test.head().T"
   ]
  },
  {
   "cell_type": "code",
   "execution_count": 304,
   "id": "9b032a67",
   "metadata": {},
   "outputs": [
    {
     "data": {
      "text/html": [
       "<div>\n",
       "<style scoped>\n",
       "    .dataframe tbody tr th:only-of-type {\n",
       "        vertical-align: middle;\n",
       "    }\n",
       "\n",
       "    .dataframe tbody tr th {\n",
       "        vertical-align: top;\n",
       "    }\n",
       "\n",
       "    .dataframe thead th {\n",
       "        text-align: right;\n",
       "    }\n",
       "</style>\n",
       "<table border=\"1\" class=\"dataframe\">\n",
       "  <thead>\n",
       "    <tr style=\"text-align: right;\">\n",
       "      <th></th>\n",
       "      <th>0</th>\n",
       "      <th>1</th>\n",
       "      <th>2</th>\n",
       "      <th>3</th>\n",
       "      <th>4</th>\n",
       "    </tr>\n",
       "  </thead>\n",
       "  <tbody>\n",
       "    <tr>\n",
       "      <th>customer_id</th>\n",
       "      <td>h11920</td>\n",
       "      <td>h11921</td>\n",
       "      <td>h9805</td>\n",
       "      <td>h7493</td>\n",
       "      <td>h7494</td>\n",
       "    </tr>\n",
       "  </tbody>\n",
       "</table>\n",
       "</div>"
      ],
      "text/plain": [
       "                  0       1      2      3      4\n",
       "customer_id  h11920  h11921  h9805  h7493  h7494"
      ]
     },
     "execution_count": 304,
     "metadata": {},
     "output_type": "execute_result"
    }
   ],
   "source": [
    "df_customer_id = df_test['customer_id']\n",
    "df_customer_id = df_customer_id.reset_index(name='customer_id')\n",
    "del df_customer_id['index']\n",
    "df_customer_id.head().T"
   ]
  },
  {
   "cell_type": "code",
   "execution_count": 305,
   "id": "e002eef4",
   "metadata": {},
   "outputs": [],
   "source": [
    "del df_test['customer_id']\n",
    "del df_test['geo_code']"
   ]
  },
  {
   "cell_type": "code",
   "execution_count": 306,
   "id": "336f85c3",
   "metadata": {},
   "outputs": [],
   "source": [
    "# Converting the values in the numberofwindows column that are not numeric and... \n",
    "#...contain the string '.' and replacing them with the median.\n",
    "\n",
    "df_test['numberofwindows'] = pd.to_numeric(df_test['numberofwindows'], errors='coerce')\n",
    "\n",
    "# Calculating the median value (ignoring NaN)\n",
    "median_value = round(df_test['numberofwindows'].median(skipna=True))\n",
    "\n",
    "# Replaceing NaN values with the median\n",
    "df_test['numberofwindows'].fillna(median_value, inplace=True)\n",
    "\n",
    "# Converting the column to an integer\n",
    "df_test['numberofwindows'] = df_test['numberofwindows'].astype(int)"
   ]
  },
  {
   "cell_type": "code",
   "execution_count": 307,
   "id": "e5f11f79",
   "metadata": {},
   "outputs": [
    {
     "data": {
      "text/plain": [
       "yearofobservation       0\n",
       "insured_period          0\n",
       "residential             0\n",
       "building_painted        0\n",
       "building_fenced         0\n",
       "garden                  4\n",
       "settlement              0\n",
       "building_dimension     13\n",
       "building_type           0\n",
       "date_of_occupancy     728\n",
       "numberofwindows         0\n",
       "dtype: int64"
      ]
     },
     "execution_count": 307,
     "metadata": {},
     "output_type": "execute_result"
    }
   ],
   "source": [
    "df_test.isnull().sum()"
   ]
  },
  {
   "cell_type": "code",
   "execution_count": 308,
   "id": "60c8a54e",
   "metadata": {},
   "outputs": [
    {
     "data": {
      "image/png": "[encoded data removed]",
      "text/plain": [
       "<Figure size 640x480 with 1 Axes>"
      ]
     },
     "metadata": {},
     "output_type": "display_data"
    }
   ],
   "source": [
    "# Visualizing the distribution of the test data using a histogram\n",
    "\n",
    "numerical_columns = ['yearofobservation', 'insured_period', 'residential', \n",
    "            'building_dimension', 'building_type', 'date_of_occupancy']\n",
    "\n",
    "# Plotting a histogram\n",
    "plt.hist(df_test[numerical_columns], bins=20, edgecolor='black')\n",
    "plt.title('Histogram of numerical columns')\n",
    "plt.xlabel('numerical columns Values')\n",
    "plt.ylabel('Frequency')\n",
    "plt.show()"
   ]
  },
  {
   "cell_type": "code",
   "execution_count": 309,
   "id": "83ed9067",
   "metadata": {},
   "outputs": [],
   "source": [
    "df_test['building_dimension'].fillna(df_test['building_dimension'].median(), inplace=True)\n",
    "\n",
    "df_test['date_of_occupancy'].fillna(df_test['date_of_occupancy'].median(), inplace=True)"
   ]
  },
  {
   "cell_type": "code",
   "execution_count": 310,
   "id": "007433e1",
   "metadata": {},
   "outputs": [],
   "source": [
    "df_test['garden'] = df_test['garden'].apply(lambda x: 1 if x == 'v' else 0)\n",
    "\n",
    "df_test['settlement'] = df_test['settlement'].apply(lambda x: 1 if x == 'r' else 0)\n",
    "\n",
    "df_test['building_fenced'] = df_test['building_fenced'].apply(lambda x: 1 if x == 'n' else 0)\n",
    "\n",
    "df_test['building_painted'] = df_test['building_painted'].apply(lambda x: 1 if x == 'n' else 0)"
   ]
  },
  {
   "cell_type": "code",
   "execution_count": 311,
   "id": "fc685426",
   "metadata": {},
   "outputs": [],
   "source": [
    "del df_test['building_fenced']"
   ]
  },
  {
   "cell_type": "markdown",
   "id": "d1caf0e8",
   "metadata": {},
   "source": [
    "#### Using the SVM Algorithm to make predictions on the Test Dataset"
   ]
  },
  {
   "cell_type": "code",
   "execution_count": 312,
   "id": "c6a3e9b0",
   "metadata": {},
   "outputs": [],
   "source": [
    "p = model.predict(df_test)"
   ]
  },
  {
   "cell_type": "code",
   "execution_count": 313,
   "id": "deee9f2c",
   "metadata": {},
   "outputs": [
    {
     "data": {
      "text/html": [
       "<div>\n",
       "<style scoped>\n",
       "    .dataframe tbody tr th:only-of-type {\n",
       "        vertical-align: middle;\n",
       "    }\n",
       "\n",
       "    .dataframe tbody tr th {\n",
       "        vertical-align: top;\n",
       "    }\n",
       "\n",
       "    .dataframe thead th {\n",
       "        text-align: right;\n",
       "    }\n",
       "</style>\n",
       "<table border=\"1\" class=\"dataframe\">\n",
       "  <thead>\n",
       "    <tr style=\"text-align: right;\">\n",
       "      <th></th>\n",
       "      <th>0</th>\n",
       "      <th>1</th>\n",
       "      <th>2</th>\n",
       "      <th>3</th>\n",
       "      <th>4</th>\n",
       "    </tr>\n",
       "  </thead>\n",
       "  <tbody>\n",
       "    <tr>\n",
       "      <th>yearofobservation</th>\n",
       "      <td>2013.0</td>\n",
       "      <td>2016.000000</td>\n",
       "      <td>2013.000000</td>\n",
       "      <td>2014.0</td>\n",
       "      <td>2016.0</td>\n",
       "    </tr>\n",
       "    <tr>\n",
       "      <th>insured_period</th>\n",
       "      <td>1.0</td>\n",
       "      <td>0.997268</td>\n",
       "      <td>0.369863</td>\n",
       "      <td>1.0</td>\n",
       "      <td>1.0</td>\n",
       "    </tr>\n",
       "    <tr>\n",
       "      <th>residential</th>\n",
       "      <td>0.0</td>\n",
       "      <td>0.000000</td>\n",
       "      <td>0.000000</td>\n",
       "      <td>0.0</td>\n",
       "      <td>0.0</td>\n",
       "    </tr>\n",
       "    <tr>\n",
       "      <th>building_painted</th>\n",
       "      <td>0.0</td>\n",
       "      <td>0.000000</td>\n",
       "      <td>0.000000</td>\n",
       "      <td>0.0</td>\n",
       "      <td>0.0</td>\n",
       "    </tr>\n",
       "    <tr>\n",
       "      <th>garden</th>\n",
       "      <td>0.0</td>\n",
       "      <td>0.000000</td>\n",
       "      <td>1.000000</td>\n",
       "      <td>0.0</td>\n",
       "      <td>0.0</td>\n",
       "    </tr>\n",
       "    <tr>\n",
       "      <th>settlement</th>\n",
       "      <td>1.0</td>\n",
       "      <td>1.000000</td>\n",
       "      <td>0.000000</td>\n",
       "      <td>1.0</td>\n",
       "      <td>1.0</td>\n",
       "    </tr>\n",
       "    <tr>\n",
       "      <th>building_dimension</th>\n",
       "      <td>300.0</td>\n",
       "      <td>300.000000</td>\n",
       "      <td>790.000000</td>\n",
       "      <td>1405.0</td>\n",
       "      <td>1405.0</td>\n",
       "    </tr>\n",
       "    <tr>\n",
       "      <th>building_type</th>\n",
       "      <td>1.0</td>\n",
       "      <td>1.000000</td>\n",
       "      <td>1.000000</td>\n",
       "      <td>1.0</td>\n",
       "      <td>1.0</td>\n",
       "    </tr>\n",
       "    <tr>\n",
       "      <th>date_of_occupancy</th>\n",
       "      <td>1960.0</td>\n",
       "      <td>1960.000000</td>\n",
       "      <td>1960.000000</td>\n",
       "      <td>2004.0</td>\n",
       "      <td>2004.0</td>\n",
       "    </tr>\n",
       "    <tr>\n",
       "      <th>numberofwindows</th>\n",
       "      <td>3.0</td>\n",
       "      <td>3.000000</td>\n",
       "      <td>4.000000</td>\n",
       "      <td>3.0</td>\n",
       "      <td>3.0</td>\n",
       "    </tr>\n",
       "    <tr>\n",
       "      <th>claims</th>\n",
       "      <td>0.0</td>\n",
       "      <td>0.000000</td>\n",
       "      <td>0.000000</td>\n",
       "      <td>0.0</td>\n",
       "      <td>0.0</td>\n",
       "    </tr>\n",
       "  </tbody>\n",
       "</table>\n",
       "</div>"
      ],
      "text/plain": [
       "                         0            1            2       3       4\n",
       "yearofobservation   2013.0  2016.000000  2013.000000  2014.0  2016.0\n",
       "insured_period         1.0     0.997268     0.369863     1.0     1.0\n",
       "residential            0.0     0.000000     0.000000     0.0     0.0\n",
       "building_painted       0.0     0.000000     0.000000     0.0     0.0\n",
       "garden                 0.0     0.000000     1.000000     0.0     0.0\n",
       "settlement             1.0     1.000000     0.000000     1.0     1.0\n",
       "building_dimension   300.0   300.000000   790.000000  1405.0  1405.0\n",
       "building_type          1.0     1.000000     1.000000     1.0     1.0\n",
       "date_of_occupancy   1960.0  1960.000000  1960.000000  2004.0  2004.0\n",
       "numberofwindows        3.0     3.000000     4.000000     3.0     3.0\n",
       "claims                 0.0     0.000000     0.000000     0.0     0.0"
      ]
     },
     "execution_count": 313,
     "metadata": {},
     "output_type": "execute_result"
    }
   ],
   "source": [
    "df_test['claims'] = p\n",
    "df_test.head().T"
   ]
  },
  {
   "cell_type": "code",
   "execution_count": 314,
   "id": "72b13dbb",
   "metadata": {},
   "outputs": [],
   "source": [
    "df_test = pd.concat([df_test, df_customer_id['customer_id']], axis=1)"
   ]
  },
  {
   "cell_type": "code",
   "execution_count": 315,
   "id": "eb95f29d",
   "metadata": {},
   "outputs": [],
   "source": [
    "# df_test.drop('yearofobservation', 'insured_period', 'residential', 'date_of_occupancy', 'numberofwindows'\n",
    "#         'building_painted', 'garden', 'settlement', 'building_dimension', 'building_type')"
   ]
  },
  {
   "cell_type": "code",
   "execution_count": 316,
   "id": "b78a1cbc",
   "metadata": {},
   "outputs": [],
   "source": [
    "# Exporting the dataframe to a new csv\n",
    "\n",
    "df_test.to_csv(\"SVM Submission.csv\", index=False)"
   ]
  },
  {
   "cell_type": "markdown",
   "id": "d1e28e1b",
   "metadata": {},
   "source": [
    "#### Using Naive Bayes Algorithm to make predictions on the Test Dataset"
   ]
  },
  {
   "cell_type": "code",
   "execution_count": 297,
   "id": "a7b1e89d",
   "metadata": {},
   "outputs": [],
   "source": [
    "data = nb_model.predict(df_test)"
   ]
  },
  {
   "cell_type": "code",
   "execution_count": 298,
   "id": "c40e1070",
   "metadata": {},
   "outputs": [
    {
     "data": {
      "text/html": [
       "<div>\n",
       "<style scoped>\n",
       "    .dataframe tbody tr th:only-of-type {\n",
       "        vertical-align: middle;\n",
       "    }\n",
       "\n",
       "    .dataframe tbody tr th {\n",
       "        vertical-align: top;\n",
       "    }\n",
       "\n",
       "    .dataframe thead th {\n",
       "        text-align: right;\n",
       "    }\n",
       "</style>\n",
       "<table border=\"1\" class=\"dataframe\">\n",
       "  <thead>\n",
       "    <tr style=\"text-align: right;\">\n",
       "      <th></th>\n",
       "      <th>0</th>\n",
       "      <th>1</th>\n",
       "      <th>2</th>\n",
       "      <th>3</th>\n",
       "      <th>4</th>\n",
       "    </tr>\n",
       "  </thead>\n",
       "  <tbody>\n",
       "    <tr>\n",
       "      <th>yearofobservation</th>\n",
       "      <td>2013.0</td>\n",
       "      <td>2016.000000</td>\n",
       "      <td>2013.000000</td>\n",
       "      <td>2014.0</td>\n",
       "      <td>2016.0</td>\n",
       "    </tr>\n",
       "    <tr>\n",
       "      <th>insured_period</th>\n",
       "      <td>1.0</td>\n",
       "      <td>0.997268</td>\n",
       "      <td>0.369863</td>\n",
       "      <td>1.0</td>\n",
       "      <td>1.0</td>\n",
       "    </tr>\n",
       "    <tr>\n",
       "      <th>residential</th>\n",
       "      <td>0.0</td>\n",
       "      <td>0.000000</td>\n",
       "      <td>0.000000</td>\n",
       "      <td>0.0</td>\n",
       "      <td>0.0</td>\n",
       "    </tr>\n",
       "    <tr>\n",
       "      <th>building_painted</th>\n",
       "      <td>0.0</td>\n",
       "      <td>0.000000</td>\n",
       "      <td>0.000000</td>\n",
       "      <td>0.0</td>\n",
       "      <td>0.0</td>\n",
       "    </tr>\n",
       "    <tr>\n",
       "      <th>garden</th>\n",
       "      <td>0.0</td>\n",
       "      <td>0.000000</td>\n",
       "      <td>1.000000</td>\n",
       "      <td>0.0</td>\n",
       "      <td>0.0</td>\n",
       "    </tr>\n",
       "    <tr>\n",
       "      <th>settlement</th>\n",
       "      <td>1.0</td>\n",
       "      <td>1.000000</td>\n",
       "      <td>0.000000</td>\n",
       "      <td>1.0</td>\n",
       "      <td>1.0</td>\n",
       "    </tr>\n",
       "    <tr>\n",
       "      <th>building_dimension</th>\n",
       "      <td>300.0</td>\n",
       "      <td>300.000000</td>\n",
       "      <td>790.000000</td>\n",
       "      <td>1405.0</td>\n",
       "      <td>1405.0</td>\n",
       "    </tr>\n",
       "    <tr>\n",
       "      <th>building_type</th>\n",
       "      <td>1.0</td>\n",
       "      <td>1.000000</td>\n",
       "      <td>1.000000</td>\n",
       "      <td>1.0</td>\n",
       "      <td>1.0</td>\n",
       "    </tr>\n",
       "    <tr>\n",
       "      <th>date_of_occupancy</th>\n",
       "      <td>1960.0</td>\n",
       "      <td>1960.000000</td>\n",
       "      <td>1960.000000</td>\n",
       "      <td>2004.0</td>\n",
       "      <td>2004.0</td>\n",
       "    </tr>\n",
       "    <tr>\n",
       "      <th>numberofwindows</th>\n",
       "      <td>3.0</td>\n",
       "      <td>3.000000</td>\n",
       "      <td>4.000000</td>\n",
       "      <td>3.0</td>\n",
       "      <td>3.0</td>\n",
       "    </tr>\n",
       "    <tr>\n",
       "      <th>claims</th>\n",
       "      <td>0.0</td>\n",
       "      <td>0.000000</td>\n",
       "      <td>0.000000</td>\n",
       "      <td>0.0</td>\n",
       "      <td>0.0</td>\n",
       "    </tr>\n",
       "  </tbody>\n",
       "</table>\n",
       "</div>"
      ],
      "text/plain": [
       "                         0            1            2       3       4\n",
       "yearofobservation   2013.0  2016.000000  2013.000000  2014.0  2016.0\n",
       "insured_period         1.0     0.997268     0.369863     1.0     1.0\n",
       "residential            0.0     0.000000     0.000000     0.0     0.0\n",
       "building_painted       0.0     0.000000     0.000000     0.0     0.0\n",
       "garden                 0.0     0.000000     1.000000     0.0     0.0\n",
       "settlement             1.0     1.000000     0.000000     1.0     1.0\n",
       "building_dimension   300.0   300.000000   790.000000  1405.0  1405.0\n",
       "building_type          1.0     1.000000     1.000000     1.0     1.0\n",
       "date_of_occupancy   1960.0  1960.000000  1960.000000  2004.0  2004.0\n",
       "numberofwindows        3.0     3.000000     4.000000     3.0     3.0\n",
       "claims                 0.0     0.000000     0.000000     0.0     0.0"
      ]
     },
     "execution_count": 298,
     "metadata": {},
     "output_type": "execute_result"
    }
   ],
   "source": [
    "df_test['claims'] = data\n",
    "df_test.head().T"
   ]
  },
  {
   "cell_type": "code",
   "execution_count": 299,
   "id": "61f138aa",
   "metadata": {},
   "outputs": [],
   "source": [
    "df_test = pd.concat([df_test, df_customer_id['customer_id']], axis=1)"
   ]
  },
  {
   "cell_type": "code",
   "execution_count": 300,
   "id": "eeada5d9",
   "metadata": {},
   "outputs": [],
   "source": [
    "# Exporting the dataframe to a new csv\n",
    "\n",
    "df_test.to_csv(\"Naive Bayes Submission.csv\", index=False)"
   ]
  },
  {
   "cell_type": "markdown",
   "id": "d3e6003a",
   "metadata": {},
   "source": [
    "#### Using KNN Algorithm to make predictions on the Test Dataset"
   ]
  },
  {
   "cell_type": "code",
   "execution_count": 263,
   "id": "28571b74",
   "metadata": {},
   "outputs": [
    {
     "name": "stderr",
     "output_type": "stream",
     "text": [
      "C:\\Users\\HP\\anaconda3\\lib\\site-packages\\sklearn\\neighbors\\_classification.py:228: FutureWarning: Unlike other reduction functions (e.g. `skew`, `kurtosis`), the default behavior of `mode` typically preserves the axis it acts along. In SciPy 1.11.0, this behavior will change: the default value of `keepdims` will become False, the `axis` over which the statistic is taken will be eliminated, and the value None will no longer be accepted. Set `keepdims` to True or False to avoid this warning.\n",
      "  mode, _ = stats.mode(_y[neigh_ind, k], axis=1)\n"
     ]
    }
   ],
   "source": [
    "KNN_data = knn.predict(df_test)"
   ]
  },
  {
   "cell_type": "code",
   "execution_count": 266,
   "id": "b9508f4a",
   "metadata": {},
   "outputs": [
    {
     "data": {
      "text/html": [
       "<div>\n",
       "<style scoped>\n",
       "    .dataframe tbody tr th:only-of-type {\n",
       "        vertical-align: middle;\n",
       "    }\n",
       "\n",
       "    .dataframe tbody tr th {\n",
       "        vertical-align: top;\n",
       "    }\n",
       "\n",
       "    .dataframe thead th {\n",
       "        text-align: right;\n",
       "    }\n",
       "</style>\n",
       "<table border=\"1\" class=\"dataframe\">\n",
       "  <thead>\n",
       "    <tr style=\"text-align: right;\">\n",
       "      <th></th>\n",
       "      <th>0</th>\n",
       "      <th>1</th>\n",
       "      <th>2</th>\n",
       "      <th>3</th>\n",
       "      <th>4</th>\n",
       "    </tr>\n",
       "  </thead>\n",
       "  <tbody>\n",
       "    <tr>\n",
       "      <th>yearofobservation</th>\n",
       "      <td>2013.0</td>\n",
       "      <td>2016.000000</td>\n",
       "      <td>2013.000000</td>\n",
       "      <td>2014.0</td>\n",
       "      <td>2016.0</td>\n",
       "    </tr>\n",
       "    <tr>\n",
       "      <th>insured_period</th>\n",
       "      <td>1.0</td>\n",
       "      <td>0.997268</td>\n",
       "      <td>0.369863</td>\n",
       "      <td>1.0</td>\n",
       "      <td>1.0</td>\n",
       "    </tr>\n",
       "    <tr>\n",
       "      <th>residential</th>\n",
       "      <td>0.0</td>\n",
       "      <td>0.000000</td>\n",
       "      <td>0.000000</td>\n",
       "      <td>0.0</td>\n",
       "      <td>0.0</td>\n",
       "    </tr>\n",
       "    <tr>\n",
       "      <th>building_painted</th>\n",
       "      <td>0.0</td>\n",
       "      <td>0.000000</td>\n",
       "      <td>0.000000</td>\n",
       "      <td>0.0</td>\n",
       "      <td>0.0</td>\n",
       "    </tr>\n",
       "    <tr>\n",
       "      <th>garden</th>\n",
       "      <td>0.0</td>\n",
       "      <td>0.000000</td>\n",
       "      <td>1.000000</td>\n",
       "      <td>0.0</td>\n",
       "      <td>0.0</td>\n",
       "    </tr>\n",
       "    <tr>\n",
       "      <th>settlement</th>\n",
       "      <td>1.0</td>\n",
       "      <td>1.000000</td>\n",
       "      <td>0.000000</td>\n",
       "      <td>1.0</td>\n",
       "      <td>1.0</td>\n",
       "    </tr>\n",
       "    <tr>\n",
       "      <th>building_dimension</th>\n",
       "      <td>300.0</td>\n",
       "      <td>300.000000</td>\n",
       "      <td>790.000000</td>\n",
       "      <td>1405.0</td>\n",
       "      <td>1405.0</td>\n",
       "    </tr>\n",
       "    <tr>\n",
       "      <th>building_type</th>\n",
       "      <td>1.0</td>\n",
       "      <td>1.000000</td>\n",
       "      <td>1.000000</td>\n",
       "      <td>1.0</td>\n",
       "      <td>1.0</td>\n",
       "    </tr>\n",
       "    <tr>\n",
       "      <th>date_of_occupancy</th>\n",
       "      <td>1960.0</td>\n",
       "      <td>1960.000000</td>\n",
       "      <td>1960.000000</td>\n",
       "      <td>2004.0</td>\n",
       "      <td>2004.0</td>\n",
       "    </tr>\n",
       "    <tr>\n",
       "      <th>numberofwindows</th>\n",
       "      <td>3.0</td>\n",
       "      <td>3.000000</td>\n",
       "      <td>4.000000</td>\n",
       "      <td>3.0</td>\n",
       "      <td>3.0</td>\n",
       "    </tr>\n",
       "    <tr>\n",
       "      <th>claims</th>\n",
       "      <td>0.0</td>\n",
       "      <td>0.000000</td>\n",
       "      <td>0.000000</td>\n",
       "      <td>0.0</td>\n",
       "      <td>0.0</td>\n",
       "    </tr>\n",
       "  </tbody>\n",
       "</table>\n",
       "</div>"
      ],
      "text/plain": [
       "                         0            1            2       3       4\n",
       "yearofobservation   2013.0  2016.000000  2013.000000  2014.0  2016.0\n",
       "insured_period         1.0     0.997268     0.369863     1.0     1.0\n",
       "residential            0.0     0.000000     0.000000     0.0     0.0\n",
       "building_painted       0.0     0.000000     0.000000     0.0     0.0\n",
       "garden                 0.0     0.000000     1.000000     0.0     0.0\n",
       "settlement             1.0     1.000000     0.000000     1.0     1.0\n",
       "building_dimension   300.0   300.000000   790.000000  1405.0  1405.0\n",
       "building_type          1.0     1.000000     1.000000     1.0     1.0\n",
       "date_of_occupancy   1960.0  1960.000000  1960.000000  2004.0  2004.0\n",
       "numberofwindows        3.0     3.000000     4.000000     3.0     3.0\n",
       "claims                 0.0     0.000000     0.000000     0.0     0.0"
      ]
     },
     "execution_count": 266,
     "metadata": {},
     "output_type": "execute_result"
    }
   ],
   "source": [
    "df_test['claims'] = KNN_data\n",
    "df_test.head().T"
   ]
  },
  {
   "cell_type": "code",
   "execution_count": 267,
   "id": "97291e01",
   "metadata": {},
   "outputs": [],
   "source": [
    "df_test = pd.concat([df_test, df_customer_id['customer_id']], axis=1)"
   ]
  },
  {
   "cell_type": "code",
   "execution_count": 268,
   "id": "85969216",
   "metadata": {},
   "outputs": [],
   "source": [
    "# Exporting the dataframe to a new csv\n",
    "\n",
    "df_test.to_csv(\"KNN.csv\", index=False)"
   ]
  },
  {
   "cell_type": "markdown",
   "id": "5cc0278a",
   "metadata": {},
   "source": [
    "#### Using Linear Regression Algorithm to make predictions on the Test Dataset"
   ]
  },
  {
   "cell_type": "code",
   "execution_count": 280,
   "id": "ad7a4640",
   "metadata": {},
   "outputs": [],
   "source": [
    "reg_data = reg.predict(df_test)"
   ]
  },
  {
   "cell_type": "code",
   "execution_count": 281,
   "id": "0c1baa78",
   "metadata": {},
   "outputs": [
    {
     "data": {
      "text/html": [
       "<div>\n",
       "<style scoped>\n",
       "    .dataframe tbody tr th:only-of-type {\n",
       "        vertical-align: middle;\n",
       "    }\n",
       "\n",
       "    .dataframe tbody tr th {\n",
       "        vertical-align: top;\n",
       "    }\n",
       "\n",
       "    .dataframe thead th {\n",
       "        text-align: right;\n",
       "    }\n",
       "</style>\n",
       "<table border=\"1\" class=\"dataframe\">\n",
       "  <thead>\n",
       "    <tr style=\"text-align: right;\">\n",
       "      <th></th>\n",
       "      <th>0</th>\n",
       "      <th>1</th>\n",
       "      <th>2</th>\n",
       "      <th>3</th>\n",
       "      <th>4</th>\n",
       "    </tr>\n",
       "  </thead>\n",
       "  <tbody>\n",
       "    <tr>\n",
       "      <th>yearofobservation</th>\n",
       "      <td>2013.000000</td>\n",
       "      <td>2016.000000</td>\n",
       "      <td>2013.000000</td>\n",
       "      <td>2014.000000</td>\n",
       "      <td>2016.000000</td>\n",
       "    </tr>\n",
       "    <tr>\n",
       "      <th>insured_period</th>\n",
       "      <td>1.000000</td>\n",
       "      <td>0.997268</td>\n",
       "      <td>0.369863</td>\n",
       "      <td>1.000000</td>\n",
       "      <td>1.000000</td>\n",
       "    </tr>\n",
       "    <tr>\n",
       "      <th>residential</th>\n",
       "      <td>0.000000</td>\n",
       "      <td>0.000000</td>\n",
       "      <td>0.000000</td>\n",
       "      <td>0.000000</td>\n",
       "      <td>0.000000</td>\n",
       "    </tr>\n",
       "    <tr>\n",
       "      <th>building_painted</th>\n",
       "      <td>0.000000</td>\n",
       "      <td>0.000000</td>\n",
       "      <td>0.000000</td>\n",
       "      <td>0.000000</td>\n",
       "      <td>0.000000</td>\n",
       "    </tr>\n",
       "    <tr>\n",
       "      <th>garden</th>\n",
       "      <td>0.000000</td>\n",
       "      <td>0.000000</td>\n",
       "      <td>1.000000</td>\n",
       "      <td>0.000000</td>\n",
       "      <td>0.000000</td>\n",
       "    </tr>\n",
       "    <tr>\n",
       "      <th>settlement</th>\n",
       "      <td>1.000000</td>\n",
       "      <td>1.000000</td>\n",
       "      <td>0.000000</td>\n",
       "      <td>1.000000</td>\n",
       "      <td>1.000000</td>\n",
       "    </tr>\n",
       "    <tr>\n",
       "      <th>building_dimension</th>\n",
       "      <td>300.000000</td>\n",
       "      <td>300.000000</td>\n",
       "      <td>790.000000</td>\n",
       "      <td>1405.000000</td>\n",
       "      <td>1405.000000</td>\n",
       "    </tr>\n",
       "    <tr>\n",
       "      <th>building_type</th>\n",
       "      <td>1.000000</td>\n",
       "      <td>1.000000</td>\n",
       "      <td>1.000000</td>\n",
       "      <td>1.000000</td>\n",
       "      <td>1.000000</td>\n",
       "    </tr>\n",
       "    <tr>\n",
       "      <th>date_of_occupancy</th>\n",
       "      <td>1960.000000</td>\n",
       "      <td>1960.000000</td>\n",
       "      <td>1960.000000</td>\n",
       "      <td>2004.000000</td>\n",
       "      <td>2004.000000</td>\n",
       "    </tr>\n",
       "    <tr>\n",
       "      <th>numberofwindows</th>\n",
       "      <td>3.000000</td>\n",
       "      <td>3.000000</td>\n",
       "      <td>4.000000</td>\n",
       "      <td>3.000000</td>\n",
       "      <td>3.000000</td>\n",
       "    </tr>\n",
       "    <tr>\n",
       "      <th>claims</th>\n",
       "      <td>0.086147</td>\n",
       "      <td>0.070509</td>\n",
       "      <td>0.060034</td>\n",
       "      <td>0.127817</td>\n",
       "      <td>0.117644</td>\n",
       "    </tr>\n",
       "  </tbody>\n",
       "</table>\n",
       "</div>"
      ],
      "text/plain": [
       "                              0            1            2            3  \\\n",
       "yearofobservation   2013.000000  2016.000000  2013.000000  2014.000000   \n",
       "insured_period         1.000000     0.997268     0.369863     1.000000   \n",
       "residential            0.000000     0.000000     0.000000     0.000000   \n",
       "building_painted       0.000000     0.000000     0.000000     0.000000   \n",
       "garden                 0.000000     0.000000     1.000000     0.000000   \n",
       "settlement             1.000000     1.000000     0.000000     1.000000   \n",
       "building_dimension   300.000000   300.000000   790.000000  1405.000000   \n",
       "building_type          1.000000     1.000000     1.000000     1.000000   \n",
       "date_of_occupancy   1960.000000  1960.000000  1960.000000  2004.000000   \n",
       "numberofwindows        3.000000     3.000000     4.000000     3.000000   \n",
       "claims                 0.086147     0.070509     0.060034     0.127817   \n",
       "\n",
       "                              4  \n",
       "yearofobservation   2016.000000  \n",
       "insured_period         1.000000  \n",
       "residential            0.000000  \n",
       "building_painted       0.000000  \n",
       "garden                 0.000000  \n",
       "settlement             1.000000  \n",
       "building_dimension  1405.000000  \n",
       "building_type          1.000000  \n",
       "date_of_occupancy   2004.000000  \n",
       "numberofwindows        3.000000  \n",
       "claims                 0.117644  "
      ]
     },
     "execution_count": 281,
     "metadata": {},
     "output_type": "execute_result"
    }
   ],
   "source": [
    "df_test['claims'] = reg_data\n",
    "df_test.head().T"
   ]
  },
  {
   "cell_type": "code",
   "execution_count": 282,
   "id": "ed763e74",
   "metadata": {},
   "outputs": [],
   "source": [
    "df_test['claims'] = df_test['claims'].round().astype(int)"
   ]
  },
  {
   "cell_type": "code",
   "execution_count": 283,
   "id": "a421ffed",
   "metadata": {},
   "outputs": [
    {
     "data": {
      "text/html": [
       "<div>\n",
       "<style scoped>\n",
       "    .dataframe tbody tr th:only-of-type {\n",
       "        vertical-align: middle;\n",
       "    }\n",
       "\n",
       "    .dataframe tbody tr th {\n",
       "        vertical-align: top;\n",
       "    }\n",
       "\n",
       "    .dataframe thead th {\n",
       "        text-align: right;\n",
       "    }\n",
       "</style>\n",
       "<table border=\"1\" class=\"dataframe\">\n",
       "  <thead>\n",
       "    <tr style=\"text-align: right;\">\n",
       "      <th></th>\n",
       "      <th>0</th>\n",
       "      <th>1</th>\n",
       "      <th>2</th>\n",
       "      <th>3</th>\n",
       "      <th>4</th>\n",
       "    </tr>\n",
       "  </thead>\n",
       "  <tbody>\n",
       "    <tr>\n",
       "      <th>yearofobservation</th>\n",
       "      <td>2013.0</td>\n",
       "      <td>2016.000000</td>\n",
       "      <td>2013.000000</td>\n",
       "      <td>2014.0</td>\n",
       "      <td>2016.0</td>\n",
       "    </tr>\n",
       "    <tr>\n",
       "      <th>insured_period</th>\n",
       "      <td>1.0</td>\n",
       "      <td>0.997268</td>\n",
       "      <td>0.369863</td>\n",
       "      <td>1.0</td>\n",
       "      <td>1.0</td>\n",
       "    </tr>\n",
       "    <tr>\n",
       "      <th>residential</th>\n",
       "      <td>0.0</td>\n",
       "      <td>0.000000</td>\n",
       "      <td>0.000000</td>\n",
       "      <td>0.0</td>\n",
       "      <td>0.0</td>\n",
       "    </tr>\n",
       "    <tr>\n",
       "      <th>building_painted</th>\n",
       "      <td>0.0</td>\n",
       "      <td>0.000000</td>\n",
       "      <td>0.000000</td>\n",
       "      <td>0.0</td>\n",
       "      <td>0.0</td>\n",
       "    </tr>\n",
       "    <tr>\n",
       "      <th>garden</th>\n",
       "      <td>0.0</td>\n",
       "      <td>0.000000</td>\n",
       "      <td>1.000000</td>\n",
       "      <td>0.0</td>\n",
       "      <td>0.0</td>\n",
       "    </tr>\n",
       "    <tr>\n",
       "      <th>settlement</th>\n",
       "      <td>1.0</td>\n",
       "      <td>1.000000</td>\n",
       "      <td>0.000000</td>\n",
       "      <td>1.0</td>\n",
       "      <td>1.0</td>\n",
       "    </tr>\n",
       "    <tr>\n",
       "      <th>building_dimension</th>\n",
       "      <td>300.0</td>\n",
       "      <td>300.000000</td>\n",
       "      <td>790.000000</td>\n",
       "      <td>1405.0</td>\n",
       "      <td>1405.0</td>\n",
       "    </tr>\n",
       "    <tr>\n",
       "      <th>building_type</th>\n",
       "      <td>1.0</td>\n",
       "      <td>1.000000</td>\n",
       "      <td>1.000000</td>\n",
       "      <td>1.0</td>\n",
       "      <td>1.0</td>\n",
       "    </tr>\n",
       "    <tr>\n",
       "      <th>date_of_occupancy</th>\n",
       "      <td>1960.0</td>\n",
       "      <td>1960.000000</td>\n",
       "      <td>1960.000000</td>\n",
       "      <td>2004.0</td>\n",
       "      <td>2004.0</td>\n",
       "    </tr>\n",
       "    <tr>\n",
       "      <th>numberofwindows</th>\n",
       "      <td>3.0</td>\n",
       "      <td>3.000000</td>\n",
       "      <td>4.000000</td>\n",
       "      <td>3.0</td>\n",
       "      <td>3.0</td>\n",
       "    </tr>\n",
       "    <tr>\n",
       "      <th>claims</th>\n",
       "      <td>0.0</td>\n",
       "      <td>0.000000</td>\n",
       "      <td>0.000000</td>\n",
       "      <td>0.0</td>\n",
       "      <td>0.0</td>\n",
       "    </tr>\n",
       "  </tbody>\n",
       "</table>\n",
       "</div>"
      ],
      "text/plain": [
       "                         0            1            2       3       4\n",
       "yearofobservation   2013.0  2016.000000  2013.000000  2014.0  2016.0\n",
       "insured_period         1.0     0.997268     0.369863     1.0     1.0\n",
       "residential            0.0     0.000000     0.000000     0.0     0.0\n",
       "building_painted       0.0     0.000000     0.000000     0.0     0.0\n",
       "garden                 0.0     0.000000     1.000000     0.0     0.0\n",
       "settlement             1.0     1.000000     0.000000     1.0     1.0\n",
       "building_dimension   300.0   300.000000   790.000000  1405.0  1405.0\n",
       "building_type          1.0     1.000000     1.000000     1.0     1.0\n",
       "date_of_occupancy   1960.0  1960.000000  1960.000000  2004.0  2004.0\n",
       "numberofwindows        3.0     3.000000     4.000000     3.0     3.0\n",
       "claims                 0.0     0.000000     0.000000     0.0     0.0"
      ]
     },
     "execution_count": 283,
     "metadata": {},
     "output_type": "execute_result"
    }
   ],
   "source": [
    "df_test.head().T"
   ]
  },
  {
   "cell_type": "code",
   "execution_count": 284,
   "id": "74ea862f",
   "metadata": {},
   "outputs": [],
   "source": [
    "df_test = pd.concat([df_test, df_customer_id['customer_id']], axis=1)"
   ]
  },
  {
   "cell_type": "code",
   "execution_count": 285,
   "id": "bd67183f",
   "metadata": {},
   "outputs": [],
   "source": [
    "# Exporting the dataframe to a new csv\n",
    "\n",
    "df_test.to_csv(\"Linear Regression Submission.csv\", index=False)"
   ]
  },
  {
   "cell_type": "code",
   "execution_count": null,
   "id": "7df0627f",
   "metadata": {},
   "outputs": [],
   "source": []
  }
 ],
 "metadata": {
  "kernelspec": {
   "display_name": "Python 3 (ipykernel)",
   "language": "python",
   "name": "python3"
  },
  "language_info": {
   "codemirror_mode": {
    "name": "ipython",
    "version": 3
   },
   "file_extension": ".py",
   "mimetype": "text/x-python",
   "name": "python",
   "nbconvert_exporter": "python",
   "pygments_lexer": "ipython3",
   "version": "3.9.13"
  }
 },
 "nbformat": 4,
 "nbformat_minor": 5
}
